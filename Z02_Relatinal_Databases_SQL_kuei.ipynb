{
 "cells": [
  {
   "cell_type": "markdown",
   "metadata": {},
   "source": [
    "# Set environment"
   ]
  },
  {
   "cell_type": "code",
   "execution_count": 39,
   "metadata": {},
   "outputs": [],
   "source": [
    "### basic tools\n",
    "import numpy as np\n",
    "import pandas as pd\n",
    "\n",
    "### show or plot\n",
    "from IPython.display import display, HTML\n",
    "\n",
    "### database\n",
    "import sqlite3\n",
    "\n",
    "### directory\n",
    "datadir = \"./data/\"\n",
    "\n",
    "### helper function\n",
    "head = lambda x: x[:6]\n",
    "tail = lambda x: x[-6:]"
   ]
  },
  {
   "cell_type": "markdown",
   "metadata": {},
   "source": [
    "# Working with Relational Databases and SQL"
   ]
  },
  {
   "cell_type": "markdown",
   "metadata": {},
   "source": [
    "**1**. 75 points\n",
    "\n",
    "Convert the flat file data in `data/flat.csv` into a well-structured relational database in SQLite3 stored as `data/faculty.db`. Note - salary information is confidential and should be kept in a separate table from other personal data."
   ]
  },
  {
   "cell_type": "markdown",
   "metadata": {},
   "source": [
    "-----"
   ]
  },
  {
   "cell_type": "markdown",
   "metadata": {},
   "source": [
    "take a look at the csv file"
   ]
  },
  {
   "cell_type": "code",
   "execution_count": 7,
   "metadata": {},
   "outputs": [
    {
     "name": "stdout",
     "output_type": "stream",
     "text": [
      "(1523, 14)\n"
     ]
    },
    {
     "data": {
      "text/html": [
       "<div>\n",
       "<style scoped>\n",
       "    .dataframe tbody tr th:only-of-type {\n",
       "        vertical-align: middle;\n",
       "    }\n",
       "\n",
       "    .dataframe tbody tr th {\n",
       "        vertical-align: top;\n",
       "    }\n",
       "\n",
       "    .dataframe thead th {\n",
       "        text-align: right;\n",
       "    }\n",
       "</style>\n",
       "<table border=\"1\" class=\"dataframe\">\n",
       "  <thead>\n",
       "    <tr style=\"text-align: right;\">\n",
       "      <th></th>\n",
       "      <th>name</th>\n",
       "      <th>gender</th>\n",
       "      <th>age</th>\n",
       "      <th>height</th>\n",
       "      <th>weight</th>\n",
       "      <th>salary</th>\n",
       "      <th>nationality</th>\n",
       "      <th>code</th>\n",
       "      <th>country</th>\n",
       "      <th>language1</th>\n",
       "      <th>language2</th>\n",
       "      <th>language3</th>\n",
       "      <th>first</th>\n",
       "      <th>last</th>\n",
       "    </tr>\n",
       "  </thead>\n",
       "  <tbody>\n",
       "    <tr>\n",
       "      <th>770</th>\n",
       "      <td>Keneth Thornton</td>\n",
       "      <td>Male</td>\n",
       "      <td>54</td>\n",
       "      <td>1.76</td>\n",
       "      <td>87</td>\n",
       "      <td>58000</td>\n",
       "      <td>Russian</td>\n",
       "      <td>RU</td>\n",
       "      <td>Russia</td>\n",
       "      <td></td>\n",
       "      <td></td>\n",
       "      <td></td>\n",
       "      <td>Keneth</td>\n",
       "      <td>Thornton</td>\n",
       "    </tr>\n",
       "    <tr>\n",
       "      <th>3</th>\n",
       "      <td>Abram Boyer</td>\n",
       "      <td>Male</td>\n",
       "      <td>45</td>\n",
       "      <td>1.64</td>\n",
       "      <td>68</td>\n",
       "      <td>76000</td>\n",
       "      <td>Italian</td>\n",
       "      <td>IT</td>\n",
       "      <td>Italy</td>\n",
       "      <td>Lua</td>\n",
       "      <td>Falcon</td>\n",
       "      <td>Io</td>\n",
       "      <td>Abram</td>\n",
       "      <td>Boyer</td>\n",
       "    </tr>\n",
       "    <tr>\n",
       "      <th>123</th>\n",
       "      <td>Barrett Coleman</td>\n",
       "      <td>Male</td>\n",
       "      <td>64</td>\n",
       "      <td>1.84</td>\n",
       "      <td>53</td>\n",
       "      <td>97000</td>\n",
       "      <td>Estonian</td>\n",
       "      <td>EE</td>\n",
       "      <td>Estonia</td>\n",
       "      <td>Prolog</td>\n",
       "      <td>Scheme</td>\n",
       "      <td></td>\n",
       "      <td>Barrett</td>\n",
       "      <td>Coleman</td>\n",
       "    </tr>\n",
       "    <tr>\n",
       "      <th>1213</th>\n",
       "      <td>Roger Lambert</td>\n",
       "      <td>Male</td>\n",
       "      <td>62</td>\n",
       "      <td>1.98</td>\n",
       "      <td>45</td>\n",
       "      <td>92000</td>\n",
       "      <td>Danish</td>\n",
       "      <td>DK</td>\n",
       "      <td>Denmark</td>\n",
       "      <td>PL-SQL</td>\n",
       "      <td>Java</td>\n",
       "      <td></td>\n",
       "      <td>Roger</td>\n",
       "      <td>Lambert</td>\n",
       "    </tr>\n",
       "    <tr>\n",
       "      <th>282</th>\n",
       "      <td>Dannie Glover</td>\n",
       "      <td>Male</td>\n",
       "      <td>28</td>\n",
       "      <td>1.66</td>\n",
       "      <td>89</td>\n",
       "      <td>140000</td>\n",
       "      <td>Dominican</td>\n",
       "      <td>DM</td>\n",
       "      <td>Dominica</td>\n",
       "      <td>GNU Octave</td>\n",
       "      <td>PHP</td>\n",
       "      <td>Scala</td>\n",
       "      <td>Dannie</td>\n",
       "      <td>Glover</td>\n",
       "    </tr>\n",
       "    <tr>\n",
       "      <th>456</th>\n",
       "      <td>Eulah Zamora</td>\n",
       "      <td>Female</td>\n",
       "      <td>30</td>\n",
       "      <td>1.74</td>\n",
       "      <td>47</td>\n",
       "      <td>168000</td>\n",
       "      <td>Costa Rican</td>\n",
       "      <td>CR</td>\n",
       "      <td>Costa Rica</td>\n",
       "      <td>Tcl</td>\n",
       "      <td></td>\n",
       "      <td></td>\n",
       "      <td>Eulah</td>\n",
       "      <td>Zamora</td>\n",
       "    </tr>\n",
       "    <tr>\n",
       "      <th>722</th>\n",
       "      <td>Junie Patterson</td>\n",
       "      <td>Female</td>\n",
       "      <td>34</td>\n",
       "      <td>1.51</td>\n",
       "      <td>68</td>\n",
       "      <td>109000</td>\n",
       "      <td>Iranian</td>\n",
       "      <td>IR</td>\n",
       "      <td>Iran</td>\n",
       "      <td>Elixir</td>\n",
       "      <td>Dylan</td>\n",
       "      <td></td>\n",
       "      <td>Junie</td>\n",
       "      <td>Patterson</td>\n",
       "    </tr>\n",
       "    <tr>\n",
       "      <th>640</th>\n",
       "      <td>Jamar Adams</td>\n",
       "      <td>Male</td>\n",
       "      <td>28</td>\n",
       "      <td>1.63</td>\n",
       "      <td>82</td>\n",
       "      <td>51000</td>\n",
       "      <td>Estonian</td>\n",
       "      <td>EE</td>\n",
       "      <td>Estonia</td>\n",
       "      <td>Z shell</td>\n",
       "      <td></td>\n",
       "      <td></td>\n",
       "      <td>Jamar</td>\n",
       "      <td>Adams</td>\n",
       "    </tr>\n",
       "    <tr>\n",
       "      <th>59</th>\n",
       "      <td>Andrew Mckee</td>\n",
       "      <td>Female</td>\n",
       "      <td>58</td>\n",
       "      <td>1.78</td>\n",
       "      <td>53</td>\n",
       "      <td>113000</td>\n",
       "      <td>Canadian</td>\n",
       "      <td>CA</td>\n",
       "      <td>Canada</td>\n",
       "      <td>Scheme</td>\n",
       "      <td>PL-I</td>\n",
       "      <td>Prolog</td>\n",
       "      <td>Andrew</td>\n",
       "      <td>Mckee</td>\n",
       "    </tr>\n",
       "    <tr>\n",
       "      <th>1265</th>\n",
       "      <td>Santiago Vang</td>\n",
       "      <td>Male</td>\n",
       "      <td>31</td>\n",
       "      <td>1.97</td>\n",
       "      <td>68</td>\n",
       "      <td>78000</td>\n",
       "      <td>Irish</td>\n",
       "      <td>IE</td>\n",
       "      <td>Ireland</td>\n",
       "      <td>Go</td>\n",
       "      <td></td>\n",
       "      <td></td>\n",
       "      <td>Santiago</td>\n",
       "      <td>Vang</td>\n",
       "    </tr>\n",
       "  </tbody>\n",
       "</table>\n",
       "</div>"
      ],
      "text/plain": [
       "                 name  gender  age  height  weight  salary  nationality code  \\\n",
       "770   Keneth Thornton    Male   54    1.76      87   58000      Russian   RU   \n",
       "3         Abram Boyer    Male   45    1.64      68   76000      Italian   IT   \n",
       "123   Barrett Coleman    Male   64    1.84      53   97000     Estonian   EE   \n",
       "1213    Roger Lambert    Male   62    1.98      45   92000       Danish   DK   \n",
       "282     Dannie Glover    Male   28    1.66      89  140000    Dominican   DM   \n",
       "456      Eulah Zamora  Female   30    1.74      47  168000  Costa Rican   CR   \n",
       "722   Junie Patterson  Female   34    1.51      68  109000      Iranian   IR   \n",
       "640       Jamar Adams    Male   28    1.63      82   51000     Estonian   EE   \n",
       "59       Andrew Mckee  Female   58    1.78      53  113000     Canadian   CA   \n",
       "1265    Santiago Vang    Male   31    1.97      68   78000        Irish   IE   \n",
       "\n",
       "         country   language1 language2 language3     first       last  \n",
       "770       Russia                                    Keneth   Thornton  \n",
       "3          Italy         Lua    Falcon        Io     Abram      Boyer  \n",
       "123      Estonia      Prolog    Scheme             Barrett    Coleman  \n",
       "1213     Denmark      PL-SQL      Java               Roger    Lambert  \n",
       "282     Dominica  GNU Octave       PHP     Scala    Dannie     Glover  \n",
       "456   Costa Rica         Tcl                         Eulah     Zamora  \n",
       "722         Iran      Elixir     Dylan               Junie  Patterson  \n",
       "640      Estonia     Z shell                         Jamar      Adams  \n",
       "59        Canada      Scheme      PL-I    Prolog    Andrew      Mckee  \n",
       "1265     Ireland          Go                      Santiago       Vang  "
      ]
     },
     "execution_count": 7,
     "metadata": {},
     "output_type": "execute_result"
    }
   ],
   "source": [
    "flat = pd.read_csv(datadir + 'flat.csv', keep_default_na = False)\n",
    "\n",
    "print(flat.shape)\n",
    "flat.sample(10)"
   ]
  },
  {
   "cell_type": "code",
   "execution_count": 22,
   "metadata": {},
   "outputs": [],
   "source": [
    "# Connecting to the database file\n",
    "con = sqlite3.connect(datadir + \"faculty.db\")\n",
    "cur = con.cursor()"
   ]
  },
  {
   "cell_type": "markdown",
   "metadata": {},
   "source": [
    "**Design tables**\n",
    "\n",
    "*Person*\n",
    "\n",
    "| pid | first | last   | age | height | weight |\n",
    "|-----|-------|--------|-----|--------|--------|\n",
    "|  1  | Eulah | Zamora |  45 |  1.76  |   87   |\n",
    "\n",
    "*Language*\n",
    "\n",
    "| lid | language |\n",
    "|-----|----------|\n",
    "|  1  |    Go    |\n",
    "\n",
    "*Country*  \n",
    "\n",
    "| cid | code | country | nationality |\n",
    "|-----|------|---------|-------------|\n",
    "|  1  |  RU  | Russia  |    Russian  |\n",
    "\n",
    "*Salary*\n",
    "\n",
    "| pid | salary |\n",
    "|-----|--------|\n",
    "|  1  |  58000 |\n",
    "\n",
    "*linker*\n"
   ]
  },
  {
   "cell_type": "code",
   "execution_count": 24,
   "metadata": {},
   "outputs": [
    {
     "data": {
      "text/plain": [
       "<sqlite3.Cursor at 0x7f6971115ce0>"
      ]
     },
     "execution_count": 24,
     "metadata": {},
     "output_type": "execute_result"
    }
   ],
   "source": [
    "cur.execute(\"DROP TABLE IF EXISTS Person;\")"
   ]
  },
  {
   "cell_type": "code",
   "execution_count": 25,
   "metadata": {},
   "outputs": [
    {
     "name": "stdout",
     "output_type": "stream",
     "text": [
      "[]\n"
     ]
    }
   ],
   "source": [
    "cur.execute(\"SELECT name FROM sqlite_master WHERE type='table';\")\n",
    "print(cur.fetchall())"
   ]
  },
  {
   "cell_type": "code",
   "execution_count": 20,
   "metadata": {},
   "outputs": [
    {
     "data": {
      "text/plain": [
       "<sqlite3.Cursor at 0x7f6971115a40>"
      ]
     },
     "execution_count": 20,
     "metadata": {},
     "output_type": "execute_result"
    }
   ],
   "source": [
    "cur.execute(\n",
    "    \"CREATE TABLE Person(\"\n",
    "    \"person_id INTEGER PRIMARY KEY,\" +\n",
    "    \"person_first varchar(255),\"     +\n",
    "    \"person_last  varchar(255),\"     +\n",
    "    \"age          INTEGER,\"          +\n",
    "    \"height       FLOAT(3)\"          +\n",
    "    \");\")"
   ]
  },
  {
   "cell_type": "code",
   "execution_count": 26,
   "metadata": {},
   "outputs": [
    {
     "data": {
      "text/plain": [
       "<sqlite3.Cursor at 0x7f6971115ce0>"
      ]
     },
     "execution_count": 26,
     "metadata": {},
     "output_type": "execute_result"
    }
   ],
   "source": [
    "cur.execute(\"\"\"\n",
    "    CREATE TABLE Person(\n",
    "    person_id INTEGER PRIMARY KEY,\n",
    "    person_first varchar(255),\n",
    "    person_last  varchar(255),\n",
    "    age          INTEGER,    \n",
    "    height       FLOAT(3),\n",
    "    weight       INTEGER\n",
    "    );\"\"\")"
   ]
  },
  {
   "cell_type": "markdown",
   "metadata": {},
   "source": [
    "Check if the table is created"
   ]
  },
  {
   "cell_type": "code",
   "execution_count": 27,
   "metadata": {},
   "outputs": [
    {
     "name": "stdout",
     "output_type": "stream",
     "text": [
      "[('Person',)]\n"
     ]
    }
   ],
   "source": [
    "cur.execute(\"SELECT name FROM sqlite_master WHERE type='table';\")\n",
    "print(cur.fetchall())"
   ]
  },
  {
   "cell_type": "markdown",
   "metadata": {},
   "source": [
    "-----"
   ]
  },
  {
   "cell_type": "code",
   "execution_count": 28,
   "metadata": {},
   "outputs": [
    {
     "name": "stdout",
     "output_type": "stream",
     "text": [
      "[]\n"
     ]
    }
   ],
   "source": [
    "cur.execute(\"\"\"\n",
    "    SELECT person_id as ID, person_first AS first\n",
    "    FROM Person \n",
    "    \"\"\")\n",
    "print(cur.fetchall())"
   ]
  },
  {
   "cell_type": "code",
   "execution_count": 34,
   "metadata": {},
   "outputs": [
    {
     "data": {
      "text/html": [
       "<div>\n",
       "<style scoped>\n",
       "    .dataframe tbody tr th:only-of-type {\n",
       "        vertical-align: middle;\n",
       "    }\n",
       "\n",
       "    .dataframe tbody tr th {\n",
       "        vertical-align: top;\n",
       "    }\n",
       "\n",
       "    .dataframe thead th {\n",
       "        text-align: right;\n",
       "    }\n",
       "</style>\n",
       "<table border=\"1\" class=\"dataframe\">\n",
       "  <thead>\n",
       "    <tr style=\"text-align: right;\">\n",
       "      <th></th>\n",
       "      <th>name</th>\n",
       "      <th>gender</th>\n",
       "      <th>age</th>\n",
       "      <th>height</th>\n",
       "      <th>weight</th>\n",
       "      <th>salary</th>\n",
       "      <th>nationality</th>\n",
       "      <th>code</th>\n",
       "      <th>country</th>\n",
       "      <th>language1</th>\n",
       "      <th>language2</th>\n",
       "      <th>language3</th>\n",
       "      <th>first</th>\n",
       "      <th>last</th>\n",
       "    </tr>\n",
       "  </thead>\n",
       "  <tbody>\n",
       "    <tr>\n",
       "      <th>0</th>\n",
       "      <td>Aaron Alexander</td>\n",
       "      <td>Male</td>\n",
       "      <td>54</td>\n",
       "      <td>1.70</td>\n",
       "      <td>90</td>\n",
       "      <td>151000</td>\n",
       "      <td>British</td>\n",
       "      <td>GB</td>\n",
       "      <td>United Kingdom</td>\n",
       "      <td>Haskell</td>\n",
       "      <td></td>\n",
       "      <td></td>\n",
       "      <td>Aaron</td>\n",
       "      <td>Alexander</td>\n",
       "    </tr>\n",
       "    <tr>\n",
       "      <th>1</th>\n",
       "      <td>Aaron Kirby</td>\n",
       "      <td>Male</td>\n",
       "      <td>59</td>\n",
       "      <td>1.69</td>\n",
       "      <td>43</td>\n",
       "      <td>80000</td>\n",
       "      <td>Spanish</td>\n",
       "      <td>SP</td>\n",
       "      <td>Spain</td>\n",
       "      <td>Falcon</td>\n",
       "      <td>haXe</td>\n",
       "      <td>GNU Octave</td>\n",
       "      <td>Aaron</td>\n",
       "      <td>Kirby</td>\n",
       "    </tr>\n",
       "  </tbody>\n",
       "</table>\n",
       "</div>"
      ],
      "text/plain": [
       "              name gender  age  height  weight  salary nationality code  \\\n",
       "0  Aaron Alexander   Male   54    1.70      90  151000     British   GB   \n",
       "1      Aaron Kirby   Male   59    1.69      43   80000     Spanish   SP   \n",
       "\n",
       "          country language1 language2   language3  first       last  \n",
       "0  United Kingdom   Haskell                        Aaron  Alexander  \n",
       "1           Spain    Falcon      haXe  GNU Octave  Aaron      Kirby  "
      ]
     },
     "execution_count": 34,
     "metadata": {},
     "output_type": "execute_result"
    }
   ],
   "source": [
    "flat.iloc[0:2, :]"
   ]
  },
  {
   "cell_type": "code",
   "execution_count": 35,
   "metadata": {},
   "outputs": [
    {
     "data": {
      "text/plain": [
       "<sqlite3.Cursor at 0x7f6971115ce0>"
      ]
     },
     "execution_count": 35,
     "metadata": {},
     "output_type": "execute_result"
    }
   ],
   "source": [
    "cur.execute(\"\"\"\n",
    "    INSERT INTO Person(person_first, person_last, age, height) \n",
    "    VALUES \n",
    "    ('Aaron', 'Alexander', 54, 1.70),\n",
    "    ('Aaron', 'Kirby',     59, 1.69);\n",
    "    \"\"\")"
   ]
  },
  {
   "cell_type": "code",
   "execution_count": 51,
   "metadata": {},
   "outputs": [
    {
     "data": {
      "text/html": [
       "<div>\n",
       "<style scoped>\n",
       "    .dataframe tbody tr th:only-of-type {\n",
       "        vertical-align: middle;\n",
       "    }\n",
       "\n",
       "    .dataframe tbody tr th {\n",
       "        vertical-align: top;\n",
       "    }\n",
       "\n",
       "    .dataframe thead th {\n",
       "        text-align: right;\n",
       "    }\n",
       "</style>\n",
       "<table border=\"1\" class=\"dataframe\">\n",
       "  <thead>\n",
       "    <tr style=\"text-align: right;\">\n",
       "      <th></th>\n",
       "      <th>person_id</th>\n",
       "      <th>person_first</th>\n",
       "      <th>person_last</th>\n",
       "      <th>age</th>\n",
       "      <th>height</th>\n",
       "    </tr>\n",
       "  </thead>\n",
       "  <tbody>\n",
       "    <tr>\n",
       "      <th>0</th>\n",
       "      <td>1</td>\n",
       "      <td>Aaron</td>\n",
       "      <td>Alexander</td>\n",
       "      <td>54</td>\n",
       "      <td>1.70</td>\n",
       "    </tr>\n",
       "    <tr>\n",
       "      <th>1</th>\n",
       "      <td>2</td>\n",
       "      <td>Aaron</td>\n",
       "      <td>Kirby</td>\n",
       "      <td>59</td>\n",
       "      <td>1.69</td>\n",
       "    </tr>\n",
       "  </tbody>\n",
       "</table>\n",
       "</div>"
      ],
      "text/plain": [
       "   person_id person_first person_last  age  height\n",
       "0          1        Aaron   Alexander   54    1.70\n",
       "1          2        Aaron       Kirby   59    1.69"
      ]
     },
     "execution_count": 51,
     "metadata": {},
     "output_type": "execute_result"
    }
   ],
   "source": [
    "pd.read_sql_query(\"\"\"SELECT * FROM Person\"\"\", con = con)\n",
    "#df = pd.DataFrame(cur.fetchall())\n",
    "#display(df)\n",
    "#cur.fetchall()"
   ]
  },
  {
   "cell_type": "code",
   "execution_count": 46,
   "metadata": {},
   "outputs": [
    {
     "data": {
      "text/html": [
       "<div>\n",
       "<style scoped>\n",
       "    .dataframe tbody tr th:only-of-type {\n",
       "        vertical-align: middle;\n",
       "    }\n",
       "\n",
       "    .dataframe tbody tr th {\n",
       "        vertical-align: top;\n",
       "    }\n",
       "\n",
       "    .dataframe thead th {\n",
       "        text-align: right;\n",
       "    }\n",
       "</style>\n",
       "<table border=\"1\" class=\"dataframe\">\n",
       "  <thead>\n",
       "    <tr style=\"text-align: right;\">\n",
       "      <th></th>\n",
       "      <th>0</th>\n",
       "      <th>1</th>\n",
       "    </tr>\n",
       "  </thead>\n",
       "  <tbody>\n",
       "    <tr>\n",
       "      <th>0</th>\n",
       "      <td>1</td>\n",
       "      <td>Aaron</td>\n",
       "    </tr>\n",
       "    <tr>\n",
       "      <th>1</th>\n",
       "      <td>2</td>\n",
       "      <td>Aaron</td>\n",
       "    </tr>\n",
       "  </tbody>\n",
       "</table>\n",
       "</div>"
      ],
      "text/plain": [
       "   0      1\n",
       "0  1  Aaron\n",
       "1  2  Aaron"
      ]
     },
     "metadata": {},
     "output_type": "display_data"
    }
   ],
   "source": [
    "cur.execute(\"\"\"\n",
    "    SELECT person_id AS id, person_first AS first\n",
    "    FROM Person \n",
    "    \"\"\")\n",
    "\n",
    "df = pd.DataFrame(cur.fetchall())\n",
    "display(df)"
   ]
  },
  {
   "cell_type": "code",
   "execution_count": 43,
   "metadata": {},
   "outputs": [],
   "source": [
    "df.to_sql('users', con = con)"
   ]
  },
  {
   "cell_type": "code",
   "execution_count": 44,
   "metadata": {},
   "outputs": [
    {
     "name": "stdout",
     "output_type": "stream",
     "text": [
      "[('Person',), ('users',)]\n"
     ]
    }
   ],
   "source": [
    "cur.execute(\"SELECT name FROM sqlite_master WHERE type='table';\")\n",
    "print(cur.fetchall())"
   ]
  },
  {
   "cell_type": "code",
   "execution_count": 56,
   "metadata": {},
   "outputs": [
    {
     "name": "stdout",
     "output_type": "stream",
     "text": [
      "[('Person',), ('users',)]\n"
     ]
    },
    {
     "data": {
      "text/html": [
       "<div>\n",
       "<style scoped>\n",
       "    .dataframe tbody tr th:only-of-type {\n",
       "        vertical-align: middle;\n",
       "    }\n",
       "\n",
       "    .dataframe tbody tr th {\n",
       "        vertical-align: top;\n",
       "    }\n",
       "\n",
       "    .dataframe thead th {\n",
       "        text-align: right;\n",
       "    }\n",
       "</style>\n",
       "<table border=\"1\" class=\"dataframe\">\n",
       "  <thead>\n",
       "    <tr style=\"text-align: right;\">\n",
       "      <th></th>\n",
       "      <th>index</th>\n",
       "      <th>person_id</th>\n",
       "      <th>person_first</th>\n",
       "      <th>person_last</th>\n",
       "      <th>age</th>\n",
       "      <th>height</th>\n",
       "    </tr>\n",
       "  </thead>\n",
       "  <tbody>\n",
       "    <tr>\n",
       "      <th>0</th>\n",
       "      <td>0</td>\n",
       "      <td>1</td>\n",
       "      <td>Aaron</td>\n",
       "      <td>Alexander</td>\n",
       "      <td>54</td>\n",
       "      <td>1.70</td>\n",
       "    </tr>\n",
       "    <tr>\n",
       "      <th>1</th>\n",
       "      <td>1</td>\n",
       "      <td>2</td>\n",
       "      <td>Aaron</td>\n",
       "      <td>Kirby</td>\n",
       "      <td>59</td>\n",
       "      <td>1.69</td>\n",
       "    </tr>\n",
       "  </tbody>\n",
       "</table>\n",
       "</div>"
      ],
      "text/plain": [
       "   index  person_id person_first person_last  age  height\n",
       "0      0          1        Aaron   Alexander   54    1.70\n",
       "1      1          2        Aaron       Kirby   59    1.69"
      ]
     },
     "execution_count": 56,
     "metadata": {},
     "output_type": "execute_result"
    }
   ],
   "source": [
    "tmp = pd.read_sql_query(\"\"\"SELECT * FROM Person\"\"\", con = con)\n",
    "tmp.to_sql('users', con = con, if_exists='replace')\n",
    "\n",
    "cur.execute(\"SELECT name FROM sqlite_master WHERE type='table';\")\n",
    "print(cur.fetchall())\n",
    "\n",
    "pd.read_sql_query(\"\"\"SELECT * FROM Users\"\"\", con = con)"
   ]
  },
  {
   "cell_type": "code",
   "execution_count": null,
   "metadata": {},
   "outputs": [],
   "source": [
    "\n",
    "\n",
    "\n"
   ]
  },
  {
   "cell_type": "markdown",
   "metadata": {},
   "source": [
    "-----"
   ]
  },
  {
   "cell_type": "markdown",
   "metadata": {},
   "source": [
    "**2**. 25 points\n",
    "\n",
    "We want to find potential mentors for Abram\tBoyer. Find all faculty members who know one or more of the same languages as Christopher Robbins whose salary is at least $50,000 higher than his using SQL statements. Assume that the only information you have is that you need to find mentors meeting the criteria for the faculty member named `Abram Boyer`. In other words, the ONLY hard coded terms in your SQL query are `Abram` and `Boyer` and the salary differential.\n",
    "\n",
    "You can use the `sql` magic extension or the `sqlite3` driver for this question."
   ]
  },
  {
   "cell_type": "code",
   "execution_count": null,
   "metadata": {},
   "outputs": [],
   "source": [
    "\n",
    "\n",
    "\n"
   ]
  }
 ],
 "metadata": {
  "kernelspec": {
   "display_name": "Python 3",
   "language": "python",
   "name": "python3"
  },
  "language_info": {
   "codemirror_mode": {
    "name": "ipython",
    "version": 3
   },
   "file_extension": ".py",
   "mimetype": "text/x-python",
   "name": "python",
   "nbconvert_exporter": "python",
   "pygments_lexer": "ipython3",
   "version": "3.6.6"
  }
 },
 "nbformat": 4,
 "nbformat_minor": 2
}
