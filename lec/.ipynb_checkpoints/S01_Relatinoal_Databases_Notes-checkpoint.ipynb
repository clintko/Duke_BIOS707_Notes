{
 "cells": [
  {
   "cell_type": "markdown",
   "metadata": {},
   "source": [
    "# S01 Relational Databases\n",
    "\n",
    "For a simple tutorial on database design, see [Introduction to Database Design](https://www.datanamic.com/support/lt-dez005-introduction-db-modeling.html)\n",
    "\n",
    "For a deep dive, see [Database Design for Mere Mortals](https://www.amazon.com/Database-Design-Mere-Mortals-Hands/dp/0321884493/ref=dp_ob_title_bk)"
   ]
  },
  {
   "cell_type": "markdown",
   "metadata": {},
   "source": [
    "## 0. Packages for working with relational databases in Python"
   ]
  },
  {
   "cell_type": "markdown",
   "metadata": {},
   "source": [
    "- [Python Database API Specification v2.0](https://www.python.org/dev/peps/pep-0249/) - The standard Python Database API\n",
    "- [sqlite3](https://docs.python.org/3.7/library/sqlite3.html) - API for builit-in `sqlite3` package\n",
    "- [Database drivers](https://github.com/vinta/awesome-python#database-drivers) - For connecting to other databases\n",
    "- [ipython-sql](https://github.com/catherinedevlin/ipython-sql) - SQL magic in Jupyter\n",
    "- [SQLAlchemy](https://www.sqlalchemy.org) - Most well-known Object Relational Mapper (ORM)\n",
    "- [Pony ORM](https://ponyorm.com) - Alternative ORM"
   ]
  },
  {
   "cell_type": "markdown",
   "metadata": {},
   "source": [
    "-----"
   ]
  },
  {
   "cell_type": "markdown",
   "metadata": {},
   "source": [
    "## 1. Motivation"
   ]
  },
  {
   "cell_type": "markdown",
   "metadata": {},
   "source": [
    "Why relational databases and SQL?\n",
    "\n",
    "- History of databases\n",
    "- ACID\n",
    "- Data integrity\n",
    "- Schema"
   ]
  },
  {
   "cell_type": "markdown",
   "metadata": {},
   "source": [
    "### Note: [Motivation] History of databases\n",
    "\n",
    "- flat files\n",
    "    - rows & columns\n",
    "    - like R & Python data frame\n",
    "- hierarchical databases\n",
    "    - tree instead of flat files\n",
    "    - HDF file format (.hdf5, .h5)\n",
    "        - Matlab store its files in this format\n",
    "        - NetCDF\n",
    "- Network database (which is already died)\n",
    "- Relational DB (1960)\n",
    "- [NoSQL](https://en.wikipedia.org/wiki/NoSQL)"
   ]
  },
  {
   "cell_type": "markdown",
   "metadata": {},
   "source": [
    "### Notes: [Motivation] Relational database\n",
    "- **store relations**\n",
    "    - example person <-----> job, name, location, ......\n",
    "    - [referential integrity](https://en.wikipedia.org/wiki/Referential_integrity)\n",
    "        - person <-----> job, name, location\n",
    "        - job    <-----> title, \n",
    "        - every rows needs to be unique\n",
    "        - when one places is changed, you don't need to change most of other information\n",
    "            - primary key and foreign key\n",
    "        - remove redundancy\n",
    "- [**relational database managing system (RDMS)**](https://techterms.com/definition/rdbms)\n",
    "    - memory\n",
    "    - disk\n",
    "    - dictionary\n",
    "        - ex: column properties\n",
    "    - query language (SQL)\n",
    "        - most vender have the common core with different extension of functionalities\n",
    "        - => most of the syntax are the same for different RDMS\n",
    "- Structure\n",
    "    - Table   (Relation)\n",
    "    - Columns (Attribute)\n",
    "    - Rows (Tuple)\n",
    "    - Note: \n",
    "        - the person who invented it was a mathematician; \n",
    "        - therefore, the terms are often from set theory"
   ]
  },
  {
   "cell_type": "markdown",
   "metadata": {},
   "source": [
    "![Structure of relational DB](https://cdn.tutsplus.com/net/authors/lalith-polepeddi/relational-databases-for-dummies-fig1.png)"
   ]
  },
  {
   "cell_type": "markdown",
   "metadata": {},
   "source": [
    "### Notes: [Motivation] ACID Properties\n",
    "- Atomic \n",
    "    - a transaction (ex: insert, delete, etc)\n",
    "        - Begin --- End => cannot go half way\n",
    "- consistent\n",
    "    - all simutaneious queries -> same answer\n",
    "- isolated \n",
    "    - queries from different persons are \n",
    "- durable\n",
    "    - store in disk\n",
    "    - so if the power goes off, the data should not be lost\n",
    "    \n",
    "    \n",
    "**problem: relatively slow**  \n",
    "during the synchronization, the clients are not allow to query things (to maintain consistent)\n",
    "\n",
    "**imagine: bank transferring money**    \n",
    "Imagine the money is transferred from bank A to bank B and the power was off. If ACID properties do not hold, you may get the result that bank A has transferred your money out but bank B has not received your money."
   ]
  },
  {
   "cell_type": "markdown",
   "metadata": {},
   "source": [
    "### Notes: [Motivation] Schema\n",
    "\n",
    "- Examples\n",
    "    - Person\n",
    "        - name **varchar(255)**\n",
    "- schema makes the system rigid\n",
    "    - constrain on type, range, ..."
   ]
  },
  {
   "cell_type": "markdown",
   "metadata": {},
   "source": [
    "-----"
   ]
  },
  {
   "cell_type": "markdown",
   "metadata": {},
   "source": [
    "## 2. RDBMS\n",
    "\n",
    "- Memory\n",
    "- Storage\n",
    "- Dictionary\n",
    "- Query language"
   ]
  },
  {
   "cell_type": "markdown",
   "metadata": {},
   "source": [
    "## 3. Anatomy"
   ]
  },
  {
   "cell_type": "markdown",
   "metadata": {},
   "source": [
    "### Table (Relation)"
   ]
  },
  {
   "cell_type": "markdown",
   "metadata": {},
   "source": [
    "Represents a *subject* or an *event*."
   ]
  },
  {
   "cell_type": "markdown",
   "metadata": {},
   "source": [
    "### Column (Attribute)"
   ]
  },
  {
   "cell_type": "markdown",
   "metadata": {},
   "source": [
    "Represents a single *variable* or *feature*."
   ]
  },
  {
   "cell_type": "markdown",
   "metadata": {},
   "source": [
    "### Row (Tuple)"
   ]
  },
  {
   "cell_type": "markdown",
   "metadata": {},
   "source": [
    "Represents an *observation*."
   ]
  },
  {
   "cell_type": "markdown",
   "metadata": {},
   "source": [
    "### Notes: [Anatomy] table, column, row\n",
    "- a table  -> 1 entity\n",
    "- a column -> 1 variable\n",
    "- a row    -> 1 observation"
   ]
  },
  {
   "cell_type": "markdown",
   "metadata": {},
   "source": [
    "![Structure of relational DB](https://cdn.tutsplus.com/net/authors/lalith-polepeddi/relational-databases-for-dummies-fig1.png)"
   ]
  },
  {
   "cell_type": "markdown",
   "metadata": {},
   "source": [
    "![](https://upload.wikimedia.org/wikipedia/commons/thumb/7/7c/Relational_database_terms.svg/350px-Relational_database_terms.svg.png)"
   ]
  },
  {
   "cell_type": "markdown",
   "metadata": {},
   "source": [
    "## 4. Concepts"
   ]
  },
  {
   "cell_type": "markdown",
   "metadata": {},
   "source": [
    "### Constraints\n",
    "\n",
    "You can impose constraints that values in a column have to take. For example, you can specify that values are compulsory (NOT NULL), or UNIQUE or fall within a certain range."
   ]
  },
  {
   "cell_type": "markdown",
   "metadata": {},
   "source": [
    "#### Notes of [Concepts] Constraints\n",
    "- Constraints\n",
    "    - example: SSN\n",
    "        - UNIQUE (most of the time)\n",
    "        - not null"
   ]
  },
  {
   "cell_type": "markdown",
   "metadata": {},
   "source": [
    "### Referential integrity"
   ]
  },
  {
   "cell_type": "markdown",
   "metadata": {},
   "source": [
    "- Primary key represents a unique identifier of a row. It may be simple or composite.\n",
    "  - Unique\n",
    "  - Non-null\n",
    "  - Never optional\n",
    "- Foreign key is a column containing the primary key of a different table. It enforces *referential integrity*."
   ]
  },
  {
   "cell_type": "markdown",
   "metadata": {},
   "source": [
    "#### Notes of [Concepts] Referntial integrity\n",
    "- Keys\n",
    "    - a column uniquely identifies a row\n",
    "    - **primary keys**\n",
    "        - *unique* and *not null*\n",
    "        - example: country code\n",
    "            - therefore, first and last name is not able to become keys\n",
    "            - => use artificial id instead\n",
    "        - composite primary key\n",
    "            - a whole row is unique\n",
    "            - used as primary key\n",
    "    - **foreign key**\n",
    "        - primary key of different table\n",
    "        - this is how you link tables together"
   ]
  },
  {
   "attachments": {},
   "cell_type": "markdown",
   "metadata": {},
   "source": [
    "![](https://i.ytimg.com/vi/x2udY8IBXQ4/maxresdefault.jpg)"
   ]
  },
  {
   "cell_type": "markdown",
   "metadata": {},
   "source": [
    "### Relationships"
   ]
  },
  {
   "cell_type": "markdown",
   "metadata": {},
   "source": [
    "- One to one\n",
    "- One to many\n",
    "- Many to many\n",
    "\n",
    "- What happens on delete?\n",
    "  - Restrict\n",
    "  - Cascade"
   ]
  },
  {
   "cell_type": "markdown",
   "metadata": {},
   "source": [
    "#### Notes of Relationships\n",
    "- one-to-many\n",
    "- one-to-one\n",
    "    - three columns\n",
    "        - person id (id) --- name --- salary\n",
    "    - => for security issue, splited into two table (confidentiality)\n",
    "        - pid --- name\n",
    "        - pid --- salary (create another one-to-one table)\n",
    "- many-to-many\n",
    "    - example: \n",
    "        - student --- multiple classes\n",
    "        - class   --- multiple students\n",
    "        - construction:\n",
    "            - three tables:\n",
    "                - student:\n",
    "                    - pid --- name, gender, ......\n",
    "                - class:\n",
    "                    - cid --- ......\n",
    "                - student-class (which is called linker table)\n",
    "                    - pid --- cid\n",
    "            - if you delete a class in a table\n",
    "                - either refuse or cascade\n",
    "                - only administer need to worry about it"
   ]
  },
  {
   "cell_type": "markdown",
   "metadata": {},
   "source": [
    "### Indexes\n",
    "\n",
    "An index is a data structure that allows fast search of a column (typically from linear to log time complexity). Most databases will automatically build an index for every primary key column, but you can also manually specify columns to build indexes for. "
   ]
  },
  {
   "cell_type": "markdown",
   "metadata": {},
   "source": [
    "#### Notes of [Concepts] Indexes\n",
    "- indexes\n",
    "    - a kind of data structure\n",
    "    - Why we need a data structure for a table\n",
    "        - imagine your want to search an item ---> too long if searching line by line\n",
    "        - hash table\n",
    "        - tree"
   ]
  },
  {
   "cell_type": "markdown",
   "metadata": {},
   "source": [
    "### Views"
   ]
  },
  {
   "cell_type": "markdown",
   "metadata": {},
   "source": [
    "- Temporary virtual table retuned as a result of a *query*.\n",
    "- Views only specify the strucutre of a table - the contents are constructed on the fly from existing tables.\n",
    "- Queries return a Result Set"
   ]
  },
  {
   "cell_type": "markdown",
   "metadata": {},
   "source": [
    "#### Notes of [Concepts] of Views                \n",
    "- view\n",
    "    - saved query\n",
    "    - a virtual table that combine a set of tables together\n",
    "    - demomalized table\n",
    "        - allow duplications (which are stored as foreign keys)  \n",
    "    - example\n",
    "        - `Create view foo as SELECT blah`\n",
    "        - => Now a foo is pseudotable  which is represented by a SQL statement \n",
    "        - => every time you call the table foo, it runs that block of SQL statement again \n",
    "        - Note: \n",
    "            - for some situation, you might not want Since joining is instead of creating view\n",
    "            - you can create a new demonaltize table"
   ]
  },
  {
   "cell_type": "markdown",
   "metadata": {},
   "source": [
    "## 5. Design"
   ]
  },
  {
   "cell_type": "markdown",
   "metadata": {},
   "source": [
    "### Columns"
   ]
  },
  {
   "cell_type": "markdown",
   "metadata": {},
   "source": [
    "- Use singlular form for name \n",
    "- Use informative names\n",
    "- Use unique names not shared by any other table (except foreign keys)\n",
    "- Column must be an attribute of the table's subject\n",
    "- Eliminate multi-part columns\n",
    "- Eliminate multi-value columsn\n",
    "- Eliminate redundant columns"
   ]
  },
  {
   "cell_type": "markdown",
   "metadata": {},
   "source": [
    "#### Notes of [Design] Columns\n",
    "- Use singlular form for name \n",
    "    - (X) first-names\n",
    "    - (O) first-name\n",
    "- Use informative names\n",
    "    - do not use abbreviation\n",
    "- Use unique names not shared by any other table (except foreign keys)\n",
    "    - someone may use *person-id, person-first, person-last, person-age*\n",
    "- Column must be an attribute of the table's subject\n",
    "- Eliminate multi-part columns\n",
    "    - example: student --- classes as column is a mess\n",
    "        - math, latin\n",
    "        - math, bio,   geo\n",
    "        - math, music, history, \n",
    "- Eliminate multi-value columns\n",
    "- Eliminate redundant columns\n",
    "    - example: don't store bmi when you have height and weight"
   ]
  },
  {
   "cell_type": "markdown",
   "metadata": {},
   "source": [
    "### Tables"
   ]
  },
  {
   "cell_type": "markdown",
   "metadata": {},
   "source": [
    "- Use singular/plural forms for name (controversial)\n",
    "- Enusre every table has a primary key\n",
    "- Eliminate duplicate columns"
   ]
  },
  {
   "cell_type": "markdown",
   "metadata": {},
   "source": [
    "### Relationships"
   ]
  },
  {
   "cell_type": "markdown",
   "metadata": {},
   "source": [
    "- Establish participation type and degree of relationship\n",
    "  - One to one\n",
    "  - One to many\n",
    "  - Many to many"
   ]
  },
  {
   "cell_type": "markdown",
   "metadata": {},
   "source": [
    "## 6. Example"
   ]
  },
  {
   "cell_type": "markdown",
   "metadata": {},
   "source": [
    "Use `sqlmagic` as alternative to using `sqlite3` driver."
   ]
  },
  {
   "cell_type": "code",
   "execution_count": 1,
   "metadata": {},
   "outputs": [],
   "source": [
    "%load_ext sql"
   ]
  },
  {
   "cell_type": "markdown",
   "metadata": {},
   "source": [
    "Connect to SQLite3 database on disk (creates it if it does not exist)"
   ]
  },
  {
   "cell_type": "code",
   "execution_count": 2,
   "metadata": {},
   "outputs": [
    {
     "data": {
      "text/plain": [
       "'Connected: @data/dummy.db'"
      ]
     },
     "execution_count": 2,
     "metadata": {},
     "output_type": "execute_result"
    }
   ],
   "source": [
    "%sql sqlite:///data/dummy.db"
   ]
  },
  {
   "cell_type": "markdown",
   "metadata": {},
   "source": [
    "SQL for table deletion and creation"
   ]
  },
  {
   "cell_type": "code",
   "execution_count": 3,
   "metadata": {},
   "outputs": [
    {
     "name": "stdout",
     "output_type": "stream",
     "text": [
      " * sqlite:///data/dummy.db\n",
      "Done.\n",
      "Done.\n",
      "Done.\n",
      "Done.\n"
     ]
    },
    {
     "data": {
      "text/plain": [
       "[]"
      ]
     },
     "execution_count": 3,
     "metadata": {},
     "output_type": "execute_result"
    }
   ],
   "source": [
    "%%sql\n",
    "\n",
    "DROP TABLE IF EXISTS Country;\n",
    "DROP TABLE IF EXISTS Person;\n",
    "\n",
    "CREATE TABLE Country (\n",
    "    country_id varcarh(2) PRIMARY KEY,\n",
    "    country_name varchar(255)\n",
    ");\n",
    "\n",
    "CREATE TABLE Person (\n",
    "    person_id INTEGER PRIMARY KEY,\n",
    "    person_first varchar(255),\n",
    "    person_last varchar(255),\n",
    "    country_id INTEGER NOT NULL,\n",
    "      FOREIGN KEY (country_id) REFERENCES Country(country_id)\n",
    ");"
   ]
  },
  {
   "cell_type": "markdown",
   "metadata": {},
   "source": [
    "SQL to insert rows."
   ]
  },
  {
   "cell_type": "code",
   "execution_count": 4,
   "metadata": {},
   "outputs": [
    {
     "name": "stdout",
     "output_type": "stream",
     "text": [
      " * sqlite:///data/dummy.db\n",
      "2 rows affected.\n"
     ]
    },
    {
     "data": {
      "text/plain": [
       "[]"
      ]
     },
     "execution_count": 4,
     "metadata": {},
     "output_type": "execute_result"
    }
   ],
   "source": [
    "%%sql\n",
    "\n",
    "INSERT INTO Country(country_id, country_name) \n",
    "VALUES ('FR', 'France'), ('CU', 'CUBA');"
   ]
  },
  {
   "cell_type": "code",
   "execution_count": 5,
   "metadata": {},
   "outputs": [
    {
     "name": "stdout",
     "output_type": "stream",
     "text": [
      " * sqlite:///data/dummy.db\n",
      "2 rows affected.\n"
     ]
    },
    {
     "data": {
      "text/plain": [
       "[]"
      ]
     },
     "execution_count": 5,
     "metadata": {},
     "output_type": "execute_result"
    }
   ],
   "source": [
    "%%sql\n",
    "\n",
    "INSERT INTO Person(person_first, person_last, country_id) \n",
    "VALUES \n",
    "('Napolean', 'Bonaparte', 'FR'),\n",
    "('Luis','Alvarez', 'CU');"
   ]
  },
  {
   "cell_type": "markdown",
   "metadata": {},
   "source": [
    "Accessing the RDBMS dictionary."
   ]
  },
  {
   "cell_type": "code",
   "execution_count": 6,
   "metadata": {},
   "outputs": [
    {
     "name": "stdout",
     "output_type": "stream",
     "text": [
      " * sqlite:///data/dummy.db\n",
      "Done.\n"
     ]
    },
    {
     "data": {
      "text/html": [
       "<table>\n",
       "    <tr>\n",
       "        <th>name</th>\n",
       "    </tr>\n",
       "    <tr>\n",
       "        <td>Country</td>\n",
       "    </tr>\n",
       "    <tr>\n",
       "        <td>Person</td>\n",
       "    </tr>\n",
       "</table>"
      ],
      "text/plain": [
       "[('Country',), ('Person',)]"
      ]
     },
     "execution_count": 6,
     "metadata": {},
     "output_type": "execute_result"
    }
   ],
   "source": [
    "%%sql\n",
    "\n",
    "SELECT name FROM sqlite_master \n",
    "WHERE type = \"table\";"
   ]
  },
  {
   "cell_type": "code",
   "execution_count": 7,
   "metadata": {},
   "outputs": [
    {
     "name": "stdout",
     "output_type": "stream",
     "text": [
      " * sqlite:///data/dummy.db\n",
      "Done.\n"
     ]
    },
    {
     "data": {
      "text/html": [
       "<table>\n",
       "    <tr>\n",
       "        <th>sql</th>\n",
       "    </tr>\n",
       "    <tr>\n",
       "        <td>CREATE TABLE Person (<br>    person_id INTEGER PRIMARY KEY,<br>    person_first varchar(255),<br>    person_last varchar(255),<br>    country_id INTEGER NOT NULL,<br>      FOREIGN KEY (country_id) REFERENCES Country(country_id)<br>)</td>\n",
       "    </tr>\n",
       "</table>"
      ],
      "text/plain": [
       "[('CREATE TABLE Person (\\n    person_id INTEGER PRIMARY KEY,\\n    person_first varchar(255),\\n    person_last varchar(255),\\n    country_id INTEGER NOT NULL,\\n      FOREIGN KEY (country_id) REFERENCES Country(country_id)\\n)',)]"
      ]
     },
     "execution_count": 7,
     "metadata": {},
     "output_type": "execute_result"
    }
   ],
   "source": [
    "%%sql\n",
    "\n",
    "SELECT sql FROM sqlite_master \n",
    "WHERE name='Person';"
   ]
  },
  {
   "cell_type": "markdown",
   "metadata": {},
   "source": [
    "SQL as a Query Language."
   ]
  },
  {
   "cell_type": "code",
   "execution_count": 8,
   "metadata": {},
   "outputs": [
    {
     "name": "stdout",
     "output_type": "stream",
     "text": [
      " * sqlite:///data/dummy.db\n",
      "Done.\n"
     ]
    },
    {
     "data": {
      "text/html": [
       "<table>\n",
       "    <tr>\n",
       "        <th>first</th>\n",
       "        <th>last</th>\n",
       "        <th>nationality</th>\n",
       "    </tr>\n",
       "    <tr>\n",
       "        <td>Napolean</td>\n",
       "        <td>Bonaparte</td>\n",
       "        <td>France</td>\n",
       "    </tr>\n",
       "    <tr>\n",
       "        <td>Luis</td>\n",
       "        <td>Alvarez</td>\n",
       "        <td>CUBA</td>\n",
       "    </tr>\n",
       "</table>"
      ],
      "text/plain": [
       "[('Napolean', 'Bonaparte', 'France'), ('Luis', 'Alvarez', 'CUBA')]"
      ]
     },
     "execution_count": 8,
     "metadata": {},
     "output_type": "execute_result"
    }
   ],
   "source": [
    "%%sql\n",
    "\n",
    "SELECT person_first as first, person_last AS last, country_name AS nationality\n",
    "FROM Person \n",
    "INNER JOIN country \n",
    "ON Person.country_id = Country.country_id;"
   ]
  },
  {
   "cell_type": "markdown",
   "metadata": {},
   "source": [
    "Visualizing the entitry-relationship diagram (ERd)."
   ]
  },
  {
   "cell_type": "code",
   "execution_count": 10,
   "metadata": {},
   "outputs": [],
   "source": [
    "import os\n",
    "from eralchemy import render_er\n",
    "\n",
    "if not os.path.exists('erd_from_sqlalchemy.png'):\n",
    "    render_er('sqlite:///data/dummy.db', 'erd_from_sqlalchemy.png')"
   ]
  },
  {
   "cell_type": "markdown",
   "metadata": {},
   "source": [
    "![](erd_from_sqlalchemy.png)"
   ]
  },
  {
   "cell_type": "markdown",
   "metadata": {},
   "source": [
    "## Homework walk-through\n",
    "\n",
    "Convert the flat file data in `data/flat.csv` into a well-structured relational database in SQLite3 stored as `data/faculty.db`. Note - salary information is confidential and should be kept in a separate table from other personal data."
   ]
  },
  {
   "cell_type": "code",
   "execution_count": 11,
   "metadata": {},
   "outputs": [],
   "source": [
    "import pandas as pd"
   ]
  },
  {
   "cell_type": "code",
   "execution_count": 12,
   "metadata": {},
   "outputs": [
    {
     "data": {
      "text/html": [
       "<div>\n",
       "<style scoped>\n",
       "    .dataframe tbody tr th:only-of-type {\n",
       "        vertical-align: middle;\n",
       "    }\n",
       "\n",
       "    .dataframe tbody tr th {\n",
       "        vertical-align: top;\n",
       "    }\n",
       "\n",
       "    .dataframe thead th {\n",
       "        text-align: right;\n",
       "    }\n",
       "</style>\n",
       "<table border=\"1\" class=\"dataframe\">\n",
       "  <thead>\n",
       "    <tr style=\"text-align: right;\">\n",
       "      <th></th>\n",
       "      <th>name</th>\n",
       "      <th>gender</th>\n",
       "      <th>age</th>\n",
       "      <th>height</th>\n",
       "      <th>weight</th>\n",
       "      <th>salary</th>\n",
       "      <th>nationality</th>\n",
       "      <th>code</th>\n",
       "      <th>country</th>\n",
       "      <th>language1</th>\n",
       "      <th>language2</th>\n",
       "      <th>language3</th>\n",
       "      <th>first</th>\n",
       "      <th>last</th>\n",
       "    </tr>\n",
       "  </thead>\n",
       "  <tbody>\n",
       "    <tr>\n",
       "      <th>1137</th>\n",
       "      <td>Ping O'neil</td>\n",
       "      <td>Female</td>\n",
       "      <td>52</td>\n",
       "      <td>1.72</td>\n",
       "      <td>78</td>\n",
       "      <td>64000</td>\n",
       "      <td>Mexican</td>\n",
       "      <td>ME</td>\n",
       "      <td>Mexico</td>\n",
       "      <td>Elixir</td>\n",
       "      <td>Assembly</td>\n",
       "      <td></td>\n",
       "      <td>Ping</td>\n",
       "      <td>O'neil</td>\n",
       "    </tr>\n",
       "    <tr>\n",
       "      <th>212</th>\n",
       "      <td>Celena Carney</td>\n",
       "      <td>Female</td>\n",
       "      <td>43</td>\n",
       "      <td>1.87</td>\n",
       "      <td>76</td>\n",
       "      <td>77000</td>\n",
       "      <td>Bolivian</td>\n",
       "      <td>BO</td>\n",
       "      <td>Bolivia</td>\n",
       "      <td>Clojure</td>\n",
       "      <td>Elixir</td>\n",
       "      <td></td>\n",
       "      <td>Celena</td>\n",
       "      <td>Carney</td>\n",
       "    </tr>\n",
       "    <tr>\n",
       "      <th>1324</th>\n",
       "      <td>Solomon Merrill</td>\n",
       "      <td>Male</td>\n",
       "      <td>66</td>\n",
       "      <td>1.88</td>\n",
       "      <td>47</td>\n",
       "      <td>97000</td>\n",
       "      <td>Spanish</td>\n",
       "      <td>SP</td>\n",
       "      <td>Spain</td>\n",
       "      <td></td>\n",
       "      <td></td>\n",
       "      <td></td>\n",
       "      <td>Solomon</td>\n",
       "      <td>Merrill</td>\n",
       "    </tr>\n",
       "    <tr>\n",
       "      <th>1399</th>\n",
       "      <td>Timothy Duffy</td>\n",
       "      <td>Female</td>\n",
       "      <td>19</td>\n",
       "      <td>1.52</td>\n",
       "      <td>57</td>\n",
       "      <td>72000</td>\n",
       "      <td>Romanian</td>\n",
       "      <td>RO</td>\n",
       "      <td>Romania</td>\n",
       "      <td></td>\n",
       "      <td></td>\n",
       "      <td></td>\n",
       "      <td>Timothy</td>\n",
       "      <td>Duffy</td>\n",
       "    </tr>\n",
       "    <tr>\n",
       "      <th>923</th>\n",
       "      <td>Mahalia Clark</td>\n",
       "      <td>Female</td>\n",
       "      <td>30</td>\n",
       "      <td>1.77</td>\n",
       "      <td>63</td>\n",
       "      <td>119000</td>\n",
       "      <td>Iranian</td>\n",
       "      <td>IR</td>\n",
       "      <td>Iran</td>\n",
       "      <td></td>\n",
       "      <td></td>\n",
       "      <td></td>\n",
       "      <td>Mahalia</td>\n",
       "      <td>Clark</td>\n",
       "    </tr>\n",
       "    <tr>\n",
       "      <th>340</th>\n",
       "      <td>Denny Harris</td>\n",
       "      <td>Female</td>\n",
       "      <td>31</td>\n",
       "      <td>1.86</td>\n",
       "      <td>84</td>\n",
       "      <td>115000</td>\n",
       "      <td>Taiwanese</td>\n",
       "      <td>TW</td>\n",
       "      <td>Taiwan</td>\n",
       "      <td>Groovy</td>\n",
       "      <td></td>\n",
       "      <td></td>\n",
       "      <td>Denny</td>\n",
       "      <td>Harris</td>\n",
       "    </tr>\n",
       "    <tr>\n",
       "      <th>189</th>\n",
       "      <td>Carie Ray</td>\n",
       "      <td>Female</td>\n",
       "      <td>22</td>\n",
       "      <td>1.85</td>\n",
       "      <td>71</td>\n",
       "      <td>136000</td>\n",
       "      <td>Mexican</td>\n",
       "      <td>ME</td>\n",
       "      <td>Mexico</td>\n",
       "      <td>Dylan</td>\n",
       "      <td>Ruby</td>\n",
       "      <td>Objective-C</td>\n",
       "      <td>Carie</td>\n",
       "      <td>Ray</td>\n",
       "    </tr>\n",
       "    <tr>\n",
       "      <th>659</th>\n",
       "      <td>Jarrod Hall</td>\n",
       "      <td>Male</td>\n",
       "      <td>53</td>\n",
       "      <td>1.75</td>\n",
       "      <td>81</td>\n",
       "      <td>143000</td>\n",
       "      <td>Irish</td>\n",
       "      <td>IE</td>\n",
       "      <td>Ireland</td>\n",
       "      <td>Prolog</td>\n",
       "      <td>Lua</td>\n",
       "      <td>Dylan</td>\n",
       "      <td>Jarrod</td>\n",
       "      <td>Hall</td>\n",
       "    </tr>\n",
       "    <tr>\n",
       "      <th>734</th>\n",
       "      <td>Karl Sandoval</td>\n",
       "      <td>Female</td>\n",
       "      <td>20</td>\n",
       "      <td>1.79</td>\n",
       "      <td>41</td>\n",
       "      <td>103000</td>\n",
       "      <td>Brazilian</td>\n",
       "      <td>BR</td>\n",
       "      <td>Brazil</td>\n",
       "      <td></td>\n",
       "      <td></td>\n",
       "      <td></td>\n",
       "      <td>Karl</td>\n",
       "      <td>Sandoval</td>\n",
       "    </tr>\n",
       "    <tr>\n",
       "      <th>946</th>\n",
       "      <td>Marcus Nieves</td>\n",
       "      <td>Male</td>\n",
       "      <td>36</td>\n",
       "      <td>1.79</td>\n",
       "      <td>66</td>\n",
       "      <td>90000</td>\n",
       "      <td>Australian</td>\n",
       "      <td>AU</td>\n",
       "      <td>Australia</td>\n",
       "      <td>Io</td>\n",
       "      <td>Bash</td>\n",
       "      <td></td>\n",
       "      <td>Marcus</td>\n",
       "      <td>Nieves</td>\n",
       "    </tr>\n",
       "  </tbody>\n",
       "</table>\n",
       "</div>"
      ],
      "text/plain": [
       "                 name  gender  age  height  weight  salary nationality code  \\\n",
       "1137      Ping O'neil  Female   52    1.72      78   64000     Mexican   ME   \n",
       "212     Celena Carney  Female   43    1.87      76   77000    Bolivian   BO   \n",
       "1324  Solomon Merrill    Male   66    1.88      47   97000     Spanish   SP   \n",
       "1399    Timothy Duffy  Female   19    1.52      57   72000    Romanian   RO   \n",
       "923     Mahalia Clark  Female   30    1.77      63  119000     Iranian   IR   \n",
       "340      Denny Harris  Female   31    1.86      84  115000   Taiwanese   TW   \n",
       "189         Carie Ray  Female   22    1.85      71  136000     Mexican   ME   \n",
       "659       Jarrod Hall    Male   53    1.75      81  143000       Irish   IE   \n",
       "734     Karl Sandoval  Female   20    1.79      41  103000   Brazilian   BR   \n",
       "946     Marcus Nieves    Male   36    1.79      66   90000  Australian   AU   \n",
       "\n",
       "        country language1 language2    language3    first      last  \n",
       "1137     Mexico    Elixir  Assembly                  Ping    O'neil  \n",
       "212     Bolivia   Clojure    Elixir                Celena    Carney  \n",
       "1324      Spain                                   Solomon   Merrill  \n",
       "1399    Romania                                   Timothy     Duffy  \n",
       "923        Iran                                   Mahalia     Clark  \n",
       "340      Taiwan    Groovy                           Denny    Harris  \n",
       "189      Mexico     Dylan      Ruby  Objective-C    Carie       Ray  \n",
       "659     Ireland    Prolog       Lua        Dylan   Jarrod      Hall  \n",
       "734      Brazil                                      Karl  Sandoval  \n",
       "946   Australia        Io      Bash                Marcus    Nieves  "
      ]
     },
     "execution_count": 12,
     "metadata": {},
     "output_type": "execute_result"
    }
   ],
   "source": [
    "flat = pd.read_csv('data/flat.csv', keep_default_na=False)\n",
    "flat.sample(10)"
   ]
  },
  {
   "cell_type": "markdown",
   "metadata": {},
   "source": [
    "Brainstorming: How do we create tables\n",
    "- person\n",
    "- language\n",
    "- country\n",
    "- confidential (salary) (one-to-one table)"
   ]
  }
 ],
 "metadata": {
  "kernelspec": {
   "display_name": "Python 3",
   "language": "python",
   "name": "python3"
  },
  "language_info": {
   "codemirror_mode": {
    "name": "ipython",
    "version": 3
   },
   "file_extension": ".py",
   "mimetype": "text/x-python",
   "name": "python",
   "nbconvert_exporter": "python",
   "pygments_lexer": "ipython3",
   "version": "3.6.6"
  }
 },
 "nbformat": 4,
 "nbformat_minor": 2
}
