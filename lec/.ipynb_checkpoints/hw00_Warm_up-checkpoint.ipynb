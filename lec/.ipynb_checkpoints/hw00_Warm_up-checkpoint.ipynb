{
 "cells": [
  {
   "cell_type": "markdown",
   "metadata": {},
   "source": [
    "# Set environment"
   ]
  },
  {
   "cell_type": "code",
   "execution_count": 1,
   "metadata": {},
   "outputs": [
    {
     "data": {
      "text/plain": [
       "'/home/jovyan/work/Duke_BIOS823_BigData/hw'"
      ]
     },
     "execution_count": 1,
     "metadata": {},
     "output_type": "execute_result"
    }
   ],
   "source": [
    "pwd"
   ]
  },
  {
   "cell_type": "markdown",
   "metadata": {},
   "source": [
    "import required packages"
   ]
  },
  {
   "cell_type": "code",
   "execution_count": 2,
   "metadata": {},
   "outputs": [],
   "source": [
    "### tools\n",
    "import numpy as np\n",
    "import pandas as pd\n",
    "import sqlite3\n",
    "\n",
    "### sklearn\n",
    "from sklearn.decomposition import PCA\n",
    "from sklearn.preprocessing import StandardScaler\n",
    "from sklearn.pipeline      import make_pipeline\n",
    "\n",
    "### plotting\n",
    "import matplotlib.pyplot as plt\n",
    "import seaborn as sns\n",
    "\n",
    "### directories\n",
    "datadir = \"/home/jovyan/work/Duke_BIOS823_BigData/data/\""
   ]
  },
  {
   "cell_type": "markdown",
   "metadata": {},
   "source": [
    "helper functions"
   ]
  },
  {
   "cell_type": "code",
   "execution_count": 3,
   "metadata": {},
   "outputs": [],
   "source": [
    "head = lambda x: x[:6]\n",
    "tail = lambda x: x[-6:]"
   ]
  },
  {
   "cell_type": "markdown",
   "metadata": {},
   "source": [
    "# Assignments"
   ]
  },
  {
   "cell_type": "markdown",
   "metadata": {},
   "source": [
    "**1**. There is an SQLite3 database `flowers.db` in the `data` sub-directory. Read this into a `pandas` DataFrame, and show lines 5-10 of the DataFrame."
   ]
  },
  {
   "cell_type": "markdown",
   "metadata": {},
   "source": [
    "[Create connection to sqlite3 database and check the table names in sqlite3](https://stackoverflow.com/questions/305378/list-of-tables-db-schema-dump-etc-using-the-python-sqlite3-api)"
   ]
  },
  {
   "cell_type": "code",
   "execution_count": 4,
   "metadata": {},
   "outputs": [
    {
     "name": "stdout",
     "output_type": "stream",
     "text": [
      "[('iris',)]\n"
     ]
    }
   ],
   "source": [
    "cnx = sqlite3.connect(datadir + \"flowers.db\")\n",
    "cursor = cnx.cursor()\n",
    "cursor.execute(\"SELECT name FROM sqlite_master WHERE type='table';\")\n",
    "print(cursor.fetchall())"
   ]
  },
  {
   "cell_type": "markdown",
   "metadata": {},
   "source": [
    " [Read in the table to pandas dataframe](https://stackoverflow.com/questions/36028759/how-to-open-and-convert-sqlite-database-to-pandas-dataframe)"
   ]
  },
  {
   "cell_type": "code",
   "execution_count": 5,
   "metadata": {},
   "outputs": [
    {
     "data": {
      "text/html": [
       "<div>\n",
       "<style scoped>\n",
       "    .dataframe tbody tr th:only-of-type {\n",
       "        vertical-align: middle;\n",
       "    }\n",
       "\n",
       "    .dataframe tbody tr th {\n",
       "        vertical-align: top;\n",
       "    }\n",
       "\n",
       "    .dataframe thead th {\n",
       "        text-align: right;\n",
       "    }\n",
       "</style>\n",
       "<table border=\"1\" class=\"dataframe\">\n",
       "  <thead>\n",
       "    <tr style=\"text-align: right;\">\n",
       "      <th></th>\n",
       "      <th>Sepal.Length</th>\n",
       "      <th>Sepal.Width</th>\n",
       "      <th>Petal.Length</th>\n",
       "      <th>Petal.Width</th>\n",
       "      <th>Species</th>\n",
       "    </tr>\n",
       "  </thead>\n",
       "  <tbody>\n",
       "    <tr>\n",
       "      <th>5</th>\n",
       "      <td>5.4</td>\n",
       "      <td>3.9</td>\n",
       "      <td>1.7</td>\n",
       "      <td>0.4</td>\n",
       "      <td>setosa</td>\n",
       "    </tr>\n",
       "    <tr>\n",
       "      <th>6</th>\n",
       "      <td>4.6</td>\n",
       "      <td>3.4</td>\n",
       "      <td>1.4</td>\n",
       "      <td>0.3</td>\n",
       "      <td>setosa</td>\n",
       "    </tr>\n",
       "    <tr>\n",
       "      <th>7</th>\n",
       "      <td>5.0</td>\n",
       "      <td>3.4</td>\n",
       "      <td>1.5</td>\n",
       "      <td>0.2</td>\n",
       "      <td>setosa</td>\n",
       "    </tr>\n",
       "    <tr>\n",
       "      <th>8</th>\n",
       "      <td>4.4</td>\n",
       "      <td>2.9</td>\n",
       "      <td>1.4</td>\n",
       "      <td>0.2</td>\n",
       "      <td>setosa</td>\n",
       "    </tr>\n",
       "    <tr>\n",
       "      <th>9</th>\n",
       "      <td>4.9</td>\n",
       "      <td>3.1</td>\n",
       "      <td>1.5</td>\n",
       "      <td>0.1</td>\n",
       "      <td>setosa</td>\n",
       "    </tr>\n",
       "    <tr>\n",
       "      <th>10</th>\n",
       "      <td>5.4</td>\n",
       "      <td>3.7</td>\n",
       "      <td>1.5</td>\n",
       "      <td>0.2</td>\n",
       "      <td>setosa</td>\n",
       "    </tr>\n",
       "  </tbody>\n",
       "</table>\n",
       "</div>"
      ],
      "text/plain": [
       "    Sepal.Length  Sepal.Width  Petal.Length  Petal.Width Species\n",
       "5            5.4          3.9           1.7          0.4  setosa\n",
       "6            4.6          3.4           1.4          0.3  setosa\n",
       "7            5.0          3.4           1.5          0.2  setosa\n",
       "8            4.4          2.9           1.4          0.2  setosa\n",
       "9            4.9          3.1           1.5          0.1  setosa\n",
       "10           5.4          3.7           1.5          0.2  setosa"
      ]
     },
     "execution_count": 5,
     "metadata": {},
     "output_type": "execute_result"
    }
   ],
   "source": [
    "cnx = sqlite3.connect(datadir + \"flowers.db\")\n",
    "df = pd.read_sql(\"SELECT * FROM iris\", cnx)\n",
    "\n",
    "# show the 5-10 lines\n",
    "df.iloc[5:11, :]"
   ]
  },
  {
   "cell_type": "markdown",
   "metadata": {},
   "source": [
    "**2**. Summmarize the mean and coefficient of variation of each measuremnt by `species`."
   ]
  },
  {
   "cell_type": "markdown",
   "metadata": {},
   "source": [
    "$$cv = \\frac{sd}{mean}$$"
   ]
  },
  {
   "cell_type": "code",
   "execution_count": 6,
   "metadata": {},
   "outputs": [
    {
     "data": {
      "text/html": [
       "<div>\n",
       "<style scoped>\n",
       "    .dataframe tbody tr th:only-of-type {\n",
       "        vertical-align: middle;\n",
       "    }\n",
       "\n",
       "    .dataframe tbody tr th {\n",
       "        vertical-align: top;\n",
       "    }\n",
       "\n",
       "    .dataframe thead tr th {\n",
       "        text-align: left;\n",
       "    }\n",
       "\n",
       "    .dataframe thead tr:last-of-type th {\n",
       "        text-align: right;\n",
       "    }\n",
       "</style>\n",
       "<table border=\"1\" class=\"dataframe\">\n",
       "  <thead>\n",
       "    <tr>\n",
       "      <th></th>\n",
       "      <th colspan=\"2\" halign=\"left\">Sepal.Length</th>\n",
       "      <th colspan=\"2\" halign=\"left\">Sepal.Width</th>\n",
       "      <th colspan=\"2\" halign=\"left\">Petal.Length</th>\n",
       "      <th colspan=\"2\" halign=\"left\">Petal.Width</th>\n",
       "    </tr>\n",
       "    <tr>\n",
       "      <th></th>\n",
       "      <th>mean</th>\n",
       "      <th>cv</th>\n",
       "      <th>mean</th>\n",
       "      <th>cv</th>\n",
       "      <th>mean</th>\n",
       "      <th>cv</th>\n",
       "      <th>mean</th>\n",
       "      <th>cv</th>\n",
       "    </tr>\n",
       "    <tr>\n",
       "      <th>Species</th>\n",
       "      <th></th>\n",
       "      <th></th>\n",
       "      <th></th>\n",
       "      <th></th>\n",
       "      <th></th>\n",
       "      <th></th>\n",
       "      <th></th>\n",
       "      <th></th>\n",
       "    </tr>\n",
       "  </thead>\n",
       "  <tbody>\n",
       "    <tr>\n",
       "      <th>setosa</th>\n",
       "      <td>5.006</td>\n",
       "      <td>0.069706</td>\n",
       "      <td>3.428</td>\n",
       "      <td>0.109467</td>\n",
       "      <td>1.462</td>\n",
       "      <td>0.117591</td>\n",
       "      <td>0.246</td>\n",
       "      <td>0.424091</td>\n",
       "    </tr>\n",
       "    <tr>\n",
       "      <th>versicolor</th>\n",
       "      <td>5.936</td>\n",
       "      <td>0.086082</td>\n",
       "      <td>2.770</td>\n",
       "      <td>0.112146</td>\n",
       "      <td>4.260</td>\n",
       "      <td>0.109199</td>\n",
       "      <td>1.326</td>\n",
       "      <td>0.147636</td>\n",
       "    </tr>\n",
       "    <tr>\n",
       "      <th>virginica</th>\n",
       "      <td>6.588</td>\n",
       "      <td>0.095551</td>\n",
       "      <td>2.974</td>\n",
       "      <td>0.107349</td>\n",
       "      <td>5.552</td>\n",
       "      <td>0.098406</td>\n",
       "      <td>2.026</td>\n",
       "      <td>0.134200</td>\n",
       "    </tr>\n",
       "  </tbody>\n",
       "</table>\n",
       "</div>"
      ],
      "text/plain": [
       "           Sepal.Length           Sepal.Width           Petal.Length  \\\n",
       "                   mean        cv        mean        cv         mean   \n",
       "Species                                                                \n",
       "setosa            5.006  0.069706       3.428  0.109467        1.462   \n",
       "versicolor        5.936  0.086082       2.770  0.112146        4.260   \n",
       "virginica         6.588  0.095551       2.974  0.107349        5.552   \n",
       "\n",
       "                     Petal.Width            \n",
       "                  cv        mean        cv  \n",
       "Species                                     \n",
       "setosa      0.117591       0.246  0.424091  \n",
       "versicolor  0.109199       1.326  0.147636  \n",
       "virginica   0.098406       2.026  0.134200  "
      ]
     },
     "execution_count": 6,
     "metadata": {},
     "output_type": "execute_result"
    }
   ],
   "source": [
    "def cv(x):\n",
    "    \"\"\"calculate the coefficient of variation of given input array\"\"\"\n",
    "    return np.std(x) / np.mean(x)\n",
    "\n",
    "### calculate mean and cv\n",
    "df_agg = df.groupby(by = 'Species').agg({np.mean, cv})\n",
    "\n",
    "### reset the column names\n",
    "#df_agg.columns = [x + y for x in df.columns[:-1] for y in (\".mean\", \".cv\")]\n",
    "\n",
    "head(df_agg)"
   ]
  },
  {
   "cell_type": "markdown",
   "metadata": {},
   "source": [
    "**3**. Make a multi-plot figure containing boxplots where the x-axis is the Species and the y-axis is one of the four measurements."
   ]
  },
  {
   "cell_type": "code",
   "execution_count": 7,
   "metadata": {},
   "outputs": [
    {
     "name": "stderr",
     "output_type": "stream",
     "text": [
      "/opt/conda/lib/python3.6/site-packages/seaborn/axisgrid.py:715: UserWarning: Using the boxplot function without specifying `order` is likely to produce an incorrect plot.\n",
      "  warnings.warn(warning)\n"
     ]
    },
    {
     "data": {
      "image/png": "[encoded data removed]",
      "text/plain": [
       "<Figure size 864x216 with 4 Axes>"
      ]
     },
     "metadata": {},
     "output_type": "display_data"
    }
   ],
   "source": [
    "# Gather (Melt) all the columns expect Species\n",
    "tmp = pd.melt(\n",
    "    df, \n",
    "    id_vars=['Species'], \n",
    "    value_vars=['Sepal.Length', 'Sepal.Width', 'Petal.Length', 'Petal.Width'])\n",
    "\n",
    "# plot the boxplot with x-axis = Species \n",
    "### optional 01: facetgrid\n",
    "g = sns.FacetGrid(tmp, col='variable')\n",
    "g = g.map(sns.boxplot, \"Species\", \"value\")\n",
    "### optional 02: specify different measurements into different colors\n",
    "# g = sns.boxplot(data = tmp, x = \"Species\", y = \"value\", hue = 'variable')"
   ]
  },
  {
   "cell_type": "markdown",
   "metadata": {},
   "source": [
    "**4**. Add 2 columns `pc1` and `pc2` to the Datafame, where `pc1` and `pc2` are the first two principal componennts of the 4 measurements. "
   ]
  },
  {
   "cell_type": "markdown",
   "metadata": {},
   "source": [
    "Here I decide to standardize the data before fitting PCA dimensional reduction"
   ]
  },
  {
   "cell_type": "code",
   "execution_count": 8,
   "metadata": {},
   "outputs": [
    {
     "data": {
      "text/html": [
       "<div>\n",
       "<style scoped>\n",
       "    .dataframe tbody tr th:only-of-type {\n",
       "        vertical-align: middle;\n",
       "    }\n",
       "\n",
       "    .dataframe tbody tr th {\n",
       "        vertical-align: top;\n",
       "    }\n",
       "\n",
       "    .dataframe thead th {\n",
       "        text-align: right;\n",
       "    }\n",
       "</style>\n",
       "<table border=\"1\" class=\"dataframe\">\n",
       "  <thead>\n",
       "    <tr style=\"text-align: right;\">\n",
       "      <th></th>\n",
       "      <th>Sepal.Length</th>\n",
       "      <th>Sepal.Width</th>\n",
       "      <th>Petal.Length</th>\n",
       "      <th>Petal.Width</th>\n",
       "      <th>Species</th>\n",
       "      <th>PC1</th>\n",
       "      <th>PC2</th>\n",
       "    </tr>\n",
       "  </thead>\n",
       "  <tbody>\n",
       "    <tr>\n",
       "      <th>0</th>\n",
       "      <td>5.1</td>\n",
       "      <td>3.5</td>\n",
       "      <td>1.4</td>\n",
       "      <td>0.2</td>\n",
       "      <td>setosa</td>\n",
       "      <td>-2.264703</td>\n",
       "      <td>0.480027</td>\n",
       "    </tr>\n",
       "    <tr>\n",
       "      <th>1</th>\n",
       "      <td>4.9</td>\n",
       "      <td>3.0</td>\n",
       "      <td>1.4</td>\n",
       "      <td>0.2</td>\n",
       "      <td>setosa</td>\n",
       "      <td>-2.080961</td>\n",
       "      <td>-0.674134</td>\n",
       "    </tr>\n",
       "    <tr>\n",
       "      <th>2</th>\n",
       "      <td>4.7</td>\n",
       "      <td>3.2</td>\n",
       "      <td>1.3</td>\n",
       "      <td>0.2</td>\n",
       "      <td>setosa</td>\n",
       "      <td>-2.364229</td>\n",
       "      <td>-0.341908</td>\n",
       "    </tr>\n",
       "    <tr>\n",
       "      <th>3</th>\n",
       "      <td>4.6</td>\n",
       "      <td>3.1</td>\n",
       "      <td>1.5</td>\n",
       "      <td>0.2</td>\n",
       "      <td>setosa</td>\n",
       "      <td>-2.299384</td>\n",
       "      <td>-0.597395</td>\n",
       "    </tr>\n",
       "    <tr>\n",
       "      <th>4</th>\n",
       "      <td>5.0</td>\n",
       "      <td>3.6</td>\n",
       "      <td>1.4</td>\n",
       "      <td>0.2</td>\n",
       "      <td>setosa</td>\n",
       "      <td>-2.389842</td>\n",
       "      <td>0.646835</td>\n",
       "    </tr>\n",
       "    <tr>\n",
       "      <th>5</th>\n",
       "      <td>5.4</td>\n",
       "      <td>3.9</td>\n",
       "      <td>1.7</td>\n",
       "      <td>0.4</td>\n",
       "      <td>setosa</td>\n",
       "      <td>-2.075631</td>\n",
       "      <td>1.489178</td>\n",
       "    </tr>\n",
       "  </tbody>\n",
       "</table>\n",
       "</div>"
      ],
      "text/plain": [
       "   Sepal.Length  Sepal.Width  Petal.Length  Petal.Width Species       PC1  \\\n",
       "0           5.1          3.5           1.4          0.2  setosa -2.264703   \n",
       "1           4.9          3.0           1.4          0.2  setosa -2.080961   \n",
       "2           4.7          3.2           1.3          0.2  setosa -2.364229   \n",
       "3           4.6          3.1           1.5          0.2  setosa -2.299384   \n",
       "4           5.0          3.6           1.4          0.2  setosa -2.389842   \n",
       "5           5.4          3.9           1.7          0.4  setosa -2.075631   \n",
       "\n",
       "        PC2  \n",
       "0  0.480027  \n",
       "1 -0.674134  \n",
       "2 -0.341908  \n",
       "3 -0.597395  \n",
       "4  0.646835  \n",
       "5  1.489178  "
      ]
     },
     "execution_count": 8,
     "metadata": {},
     "output_type": "execute_result"
    }
   ],
   "source": [
    "# get the first four columns\n",
    "tmp = df.iloc[:, 0:4]\n",
    "\n",
    "# set up pipeline for standardization and PCA dim reduct\n",
    "pipe = make_pipeline(StandardScaler(), PCA(n_components = 2)) \n",
    "tmp = pipe.fit_transform(tmp)\n",
    "\n",
    "# assign the first two principal components to the iris data\n",
    "df_pc = df.copy() ### prevent overwrite the variable df\n",
    "df_pc['PC1'] = tmp[:,0]\n",
    "df_pc['PC2'] = tmp[:,1]\n",
    "\n",
    "# check the results\n",
    "head(df_pc)"
   ]
  },
  {
   "cell_type": "markdown",
   "metadata": {},
   "source": [
    "**5**. Save the DataFrame to a CSV file, not including the index."
   ]
  },
  {
   "cell_type": "code",
   "execution_count": 9,
   "metadata": {},
   "outputs": [],
   "source": [
    "# output the dataframe to a csv file w/o index\n",
    "pd.DataFrame.to_csv(df_pc, \"hw00_iris_pc.csv\", index = False)"
   ]
  },
  {
   "cell_type": "markdown",
   "metadata": {},
   "source": [
    "check to make sure the data is output correctly"
   ]
  },
  {
   "cell_type": "code",
   "execution_count": 10,
   "metadata": {},
   "outputs": [
    {
     "data": {
      "text/plain": [
       "['Sepal.Length,Sepal.Width,Petal.Length,Petal.Width,Species,PC1,PC2',\n",
       " '5.1,3.5,1.4,0.2,setosa,-2.2647028088075962,0.48002659652098906',\n",
       " '4.9,3.0,1.4,0.2,setosa,-2.0809611519657687,-0.6741335566053536',\n",
       " '4.7,3.2,1.3,0.2,setosa,-2.3642290538903015,-0.34190802388467684',\n",
       " '4.6,3.1,1.5,0.2,setosa,-2.2993842170427086,-0.5973945076746764',\n",
       " '5.0,3.6,1.4,0.2,setosa,-2.389842166313845,0.6468353829020268',\n",
       " '5.4,3.9,1.7,0.4,setosa,-2.075630948176513,1.4891775233211666',\n",
       " '4.6,3.4,1.4,0.3,setosa,-2.444028835134153,0.04764419763001348',\n",
       " '5.0,3.4,1.5,0.2,setosa,-2.232847158872015,0.22314807268959136',\n",
       " '4.4,2.9,1.4,0.2,setosa,-2.3346404779076217,-1.1153276754616672']"
      ]
     },
     "execution_count": 10,
     "metadata": {},
     "output_type": "execute_result"
    }
   ],
   "source": [
    "!!head hw00_iris_pc.csv"
   ]
  }
 ],
 "metadata": {
  "kernelspec": {
   "display_name": "Python 3",
   "language": "python",
   "name": "python3"
  },
  "language_info": {
   "codemirror_mode": {
    "name": "ipython",
    "version": 3
   },
   "file_extension": ".py",
   "mimetype": "text/x-python",
   "name": "python",
   "nbconvert_exporter": "python",
   "pygments_lexer": "ipython3",
   "version": "3.6.6"
  }
 },
 "nbformat": 4,
 "nbformat_minor": 2
}
