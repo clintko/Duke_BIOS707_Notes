{
 "cells": [
  {
   "cell_type": "markdown",
   "metadata": {},
   "source": [
    "# set environment"
   ]
  },
  {
   "cell_type": "code",
   "execution_count": 4,
   "metadata": {},
   "outputs": [],
   "source": [
    "### basic tools\n",
    "import numpy as np\n",
    "import pandas as pd\n",
    "\n",
    "### show or plot\n",
    "from IPython.display import display, HTML\n",
    "\n",
    "### database\n",
    "import sqlite3\n",
    "\n",
    "### directory\n",
    "datadir = \"../data/\"\n",
    "scratch_datadir = \"./scratch_data/\"\n",
    "\n",
    "### helper function\n",
    "head = lambda x: x[:6]\n",
    "tail = lambda x: x[-6:]"
   ]
  },
  {
   "cell_type": "markdown",
   "metadata": {},
   "source": [
    "Note: Reference about using pandas\n",
    "\n",
    "- rename\n",
    "    - https://pandas.pydata.org/pandas-docs/stable/generated/pandas.DataFrame.rename.html\n",
    "- sql API\n",
    "    - https://pandas.pydata.org/pandas-docs/stable/generated/pandas.DataFrame.to_sql.html#pandas.DataFrame.to_sql\n",
    "    - https://pandas.pydata.org/pandas-docs/stable/generated/pandas.read_sql_query.html#pandas.read_sql_query"
   ]
  },
  {
   "cell_type": "markdown",
   "metadata": {},
   "source": [
    "# Read in a data"
   ]
  },
  {
   "cell_type": "code",
   "execution_count": 3,
   "metadata": {},
   "outputs": [
    {
     "name": "stdout",
     "output_type": "stream",
     "text": [
      "(1523, 14)\n"
     ]
    },
    {
     "data": {
      "text/html": [
       "<div>\n",
       "<style scoped>\n",
       "    .dataframe tbody tr th:only-of-type {\n",
       "        vertical-align: middle;\n",
       "    }\n",
       "\n",
       "    .dataframe tbody tr th {\n",
       "        vertical-align: top;\n",
       "    }\n",
       "\n",
       "    .dataframe thead th {\n",
       "        text-align: right;\n",
       "    }\n",
       "</style>\n",
       "<table border=\"1\" class=\"dataframe\">\n",
       "  <thead>\n",
       "    <tr style=\"text-align: right;\">\n",
       "      <th></th>\n",
       "      <th>name</th>\n",
       "      <th>gender</th>\n",
       "      <th>age</th>\n",
       "      <th>height</th>\n",
       "      <th>weight</th>\n",
       "      <th>salary</th>\n",
       "      <th>nationality</th>\n",
       "      <th>code</th>\n",
       "      <th>country</th>\n",
       "      <th>language1</th>\n",
       "      <th>language2</th>\n",
       "      <th>language3</th>\n",
       "      <th>first</th>\n",
       "      <th>last</th>\n",
       "    </tr>\n",
       "  </thead>\n",
       "  <tbody>\n",
       "    <tr>\n",
       "      <th>1183</th>\n",
       "      <td>Renato Rose</td>\n",
       "      <td>Male</td>\n",
       "      <td>32</td>\n",
       "      <td>1.76</td>\n",
       "      <td>86</td>\n",
       "      <td>111000</td>\n",
       "      <td>Polish</td>\n",
       "      <td>PO</td>\n",
       "      <td>Poland</td>\n",
       "      <td></td>\n",
       "      <td></td>\n",
       "      <td></td>\n",
       "      <td>Renato</td>\n",
       "      <td>Rose</td>\n",
       "    </tr>\n",
       "    <tr>\n",
       "      <th>112</th>\n",
       "      <td>Augustine Dodson</td>\n",
       "      <td>Male</td>\n",
       "      <td>64</td>\n",
       "      <td>1.69</td>\n",
       "      <td>56</td>\n",
       "      <td>91000</td>\n",
       "      <td>Costa Rican</td>\n",
       "      <td>CR</td>\n",
       "      <td>Costa Rica</td>\n",
       "      <td>Scala</td>\n",
       "      <td>Racket</td>\n",
       "      <td>Z shell</td>\n",
       "      <td>Augustine</td>\n",
       "      <td>Dodson</td>\n",
       "    </tr>\n",
       "    <tr>\n",
       "      <th>1036</th>\n",
       "      <td>Modesto Ashley</td>\n",
       "      <td>Male</td>\n",
       "      <td>20</td>\n",
       "      <td>1.52</td>\n",
       "      <td>40</td>\n",
       "      <td>97000</td>\n",
       "      <td>Greek</td>\n",
       "      <td>GR</td>\n",
       "      <td>Greece</td>\n",
       "      <td>Kotlin</td>\n",
       "      <td>Tcl</td>\n",
       "      <td>Lua</td>\n",
       "      <td>Modesto</td>\n",
       "      <td>Ashley</td>\n",
       "    </tr>\n",
       "    <tr>\n",
       "      <th>295</th>\n",
       "      <td>Daron Charles</td>\n",
       "      <td>Male</td>\n",
       "      <td>36</td>\n",
       "      <td>1.90</td>\n",
       "      <td>90</td>\n",
       "      <td>121000</td>\n",
       "      <td>British</td>\n",
       "      <td>GB</td>\n",
       "      <td>United Kingdom</td>\n",
       "      <td></td>\n",
       "      <td></td>\n",
       "      <td></td>\n",
       "      <td>Daron</td>\n",
       "      <td>Charles</td>\n",
       "    </tr>\n",
       "    <tr>\n",
       "      <th>80</th>\n",
       "      <td>Apolonia Nielsen</td>\n",
       "      <td>Female</td>\n",
       "      <td>33</td>\n",
       "      <td>1.53</td>\n",
       "      <td>83</td>\n",
       "      <td>88000</td>\n",
       "      <td>Russian</td>\n",
       "      <td>RU</td>\n",
       "      <td>Russia</td>\n",
       "      <td>Caml</td>\n",
       "      <td></td>\n",
       "      <td></td>\n",
       "      <td>Apolonia</td>\n",
       "      <td>Nielsen</td>\n",
       "    </tr>\n",
       "    <tr>\n",
       "      <th>470</th>\n",
       "      <td>Ezequiel Dejesus</td>\n",
       "      <td>Male</td>\n",
       "      <td>62</td>\n",
       "      <td>1.90</td>\n",
       "      <td>82</td>\n",
       "      <td>70000</td>\n",
       "      <td>Chinese</td>\n",
       "      <td>CH</td>\n",
       "      <td>China</td>\n",
       "      <td>PHP</td>\n",
       "      <td></td>\n",
       "      <td></td>\n",
       "      <td>Ezequiel</td>\n",
       "      <td>Dejesus</td>\n",
       "    </tr>\n",
       "    <tr>\n",
       "      <th>1411</th>\n",
       "      <td>Tracy Ramos</td>\n",
       "      <td>Male</td>\n",
       "      <td>48</td>\n",
       "      <td>1.59</td>\n",
       "      <td>52</td>\n",
       "      <td>93000</td>\n",
       "      <td>Mexican</td>\n",
       "      <td>ME</td>\n",
       "      <td>Mexico</td>\n",
       "      <td>PL-SQL</td>\n",
       "      <td>Elixir</td>\n",
       "      <td></td>\n",
       "      <td>Tracy</td>\n",
       "      <td>Ramos</td>\n",
       "    </tr>\n",
       "    <tr>\n",
       "      <th>571</th>\n",
       "      <td>Hayden Daniel</td>\n",
       "      <td>Male</td>\n",
       "      <td>64</td>\n",
       "      <td>1.75</td>\n",
       "      <td>73</td>\n",
       "      <td>123000</td>\n",
       "      <td>Estonian</td>\n",
       "      <td>EE</td>\n",
       "      <td>Estonia</td>\n",
       "      <td></td>\n",
       "      <td></td>\n",
       "      <td></td>\n",
       "      <td>Hayden</td>\n",
       "      <td>Daniel</td>\n",
       "    </tr>\n",
       "    <tr>\n",
       "      <th>355</th>\n",
       "      <td>Devora Payne</td>\n",
       "      <td>Female</td>\n",
       "      <td>60</td>\n",
       "      <td>1.99</td>\n",
       "      <td>55</td>\n",
       "      <td>146000</td>\n",
       "      <td>Chinese</td>\n",
       "      <td>HK</td>\n",
       "      <td>Hong Kong</td>\n",
       "      <td></td>\n",
       "      <td></td>\n",
       "      <td></td>\n",
       "      <td>Devora</td>\n",
       "      <td>Payne</td>\n",
       "    </tr>\n",
       "    <tr>\n",
       "      <th>1141</th>\n",
       "      <td>Porfirio Dudley</td>\n",
       "      <td>Male</td>\n",
       "      <td>40</td>\n",
       "      <td>1.95</td>\n",
       "      <td>49</td>\n",
       "      <td>76000</td>\n",
       "      <td>British</td>\n",
       "      <td>GB</td>\n",
       "      <td>United Kingdom</td>\n",
       "      <td>Ruby</td>\n",
       "      <td>Smalltalk</td>\n",
       "      <td>Assembly</td>\n",
       "      <td>Porfirio</td>\n",
       "      <td>Dudley</td>\n",
       "    </tr>\n",
       "  </tbody>\n",
       "</table>\n",
       "</div>"
      ],
      "text/plain": [
       "                  name  gender  age  height  weight  salary  nationality code  \\\n",
       "1183       Renato Rose    Male   32    1.76      86  111000       Polish   PO   \n",
       "112   Augustine Dodson    Male   64    1.69      56   91000  Costa Rican   CR   \n",
       "1036    Modesto Ashley    Male   20    1.52      40   97000        Greek   GR   \n",
       "295      Daron Charles    Male   36    1.90      90  121000      British   GB   \n",
       "80    Apolonia Nielsen  Female   33    1.53      83   88000      Russian   RU   \n",
       "470   Ezequiel Dejesus    Male   62    1.90      82   70000      Chinese   CH   \n",
       "1411       Tracy Ramos    Male   48    1.59      52   93000      Mexican   ME   \n",
       "571      Hayden Daniel    Male   64    1.75      73  123000     Estonian   EE   \n",
       "355       Devora Payne  Female   60    1.99      55  146000      Chinese   HK   \n",
       "1141   Porfirio Dudley    Male   40    1.95      49   76000      British   GB   \n",
       "\n",
       "             country language1  language2 language3      first     last  \n",
       "1183          Poland                                    Renato     Rose  \n",
       "112       Costa Rica     Scala     Racket   Z shell  Augustine   Dodson  \n",
       "1036          Greece    Kotlin        Tcl       Lua    Modesto   Ashley  \n",
       "295   United Kingdom                                     Daron  Charles  \n",
       "80            Russia      Caml                        Apolonia  Nielsen  \n",
       "470            China       PHP                        Ezequiel  Dejesus  \n",
       "1411          Mexico    PL-SQL     Elixir                Tracy    Ramos  \n",
       "571          Estonia                                    Hayden   Daniel  \n",
       "355        Hong Kong                                    Devora    Payne  \n",
       "1141  United Kingdom      Ruby  Smalltalk  Assembly   Porfirio   Dudley  "
      ]
     },
     "execution_count": 3,
     "metadata": {},
     "output_type": "execute_result"
    }
   ],
   "source": [
    "flat = pd.read_csv(datadir + 'flat.csv', keep_default_na = False)\n",
    "\n",
    "print(flat.shape)\n",
    "flat.sample(10)"
   ]
  },
  {
   "cell_type": "markdown",
   "metadata": {},
   "source": [
    "Note that there is not duplication in name!!"
   ]
  },
  {
   "cell_type": "code",
   "execution_count": 59,
   "metadata": {},
   "outputs": [
    {
     "data": {
      "text/plain": [
       "0"
      ]
     },
     "execution_count": 59,
     "metadata": {},
     "output_type": "execute_result"
    }
   ],
   "source": [
    "np.sum(flat.name.duplicated())"
   ]
  },
  {
   "cell_type": "markdown",
   "metadata": {},
   "source": [
    "# Create a database by connecting to one"
   ]
  },
  {
   "cell_type": "code",
   "execution_count": 5,
   "metadata": {},
   "outputs": [],
   "source": [
    "# Connecting to the database file\n",
    "con = sqlite3.connect(scratch_datadir + \"faculty.db\")\n",
    "cur = con.cursor()"
   ]
  },
  {
   "cell_type": "code",
   "execution_count": 6,
   "metadata": {},
   "outputs": [
    {
     "data": {
      "text/plain": [
       "['faculty.db']"
      ]
     },
     "execution_count": 6,
     "metadata": {},
     "output_type": "execute_result"
    }
   ],
   "source": [
    "!!ls ./scratch_data"
   ]
  },
  {
   "cell_type": "markdown",
   "metadata": {},
   "source": [
    "# Start to input the data"
   ]
  },
  {
   "cell_type": "code",
   "execution_count": 8,
   "metadata": {},
   "outputs": [
    {
     "name": "stdout",
     "output_type": "stream",
     "text": [
      "[]\n"
     ]
    }
   ],
   "source": [
    "cur.execute(\"DROP TABLE IF EXISTS Person;\")\n",
    "cur.execute(\"SELECT name FROM sqlite_master WHERE type='table';\")\n",
    "print(cur.fetchall())"
   ]
  },
  {
   "cell_type": "markdown",
   "metadata": {},
   "source": [
    "create a table called Person"
   ]
  },
  {
   "cell_type": "code",
   "execution_count": 9,
   "metadata": {},
   "outputs": [
    {
     "data": {
      "text/plain": [
       "<sqlite3.Cursor at 0x7ff1740b4f80>"
      ]
     },
     "execution_count": 9,
     "metadata": {},
     "output_type": "execute_result"
    }
   ],
   "source": [
    "cur.execute(\"\"\"\n",
    "    CREATE TABLE Person(\n",
    "    person_id INTEGER PRIMARY KEY,\n",
    "    person_first varchar(255),\n",
    "    person_last  varchar(255),\n",
    "    age          INTEGER,    \n",
    "    height       FLOAT(3),\n",
    "    weight       INTEGER\n",
    "    );\"\"\")"
   ]
  },
  {
   "cell_type": "markdown",
   "metadata": {},
   "source": [
    "check if the table is created"
   ]
  },
  {
   "cell_type": "code",
   "execution_count": 10,
   "metadata": {},
   "outputs": [
    {
     "name": "stdout",
     "output_type": "stream",
     "text": [
      "[('Person',)]\n"
     ]
    }
   ],
   "source": [
    "cur.execute(\"SELECT name FROM sqlite_master WHERE type='table';\")\n",
    "print(cur.fetchall())"
   ]
  },
  {
   "cell_type": "markdown",
   "metadata": {},
   "source": [
    "insert and query the data"
   ]
  },
  {
   "cell_type": "code",
   "execution_count": 12,
   "metadata": {},
   "outputs": [
    {
     "data": {
      "text/html": [
       "<div>\n",
       "<style scoped>\n",
       "    .dataframe tbody tr th:only-of-type {\n",
       "        vertical-align: middle;\n",
       "    }\n",
       "\n",
       "    .dataframe tbody tr th {\n",
       "        vertical-align: top;\n",
       "    }\n",
       "\n",
       "    .dataframe thead th {\n",
       "        text-align: right;\n",
       "    }\n",
       "</style>\n",
       "<table border=\"1\" class=\"dataframe\">\n",
       "  <thead>\n",
       "    <tr style=\"text-align: right;\">\n",
       "      <th></th>\n",
       "      <th>name</th>\n",
       "      <th>gender</th>\n",
       "      <th>age</th>\n",
       "      <th>height</th>\n",
       "      <th>weight</th>\n",
       "      <th>salary</th>\n",
       "      <th>nationality</th>\n",
       "      <th>code</th>\n",
       "      <th>country</th>\n",
       "      <th>language1</th>\n",
       "      <th>language2</th>\n",
       "      <th>language3</th>\n",
       "      <th>first</th>\n",
       "      <th>last</th>\n",
       "    </tr>\n",
       "  </thead>\n",
       "  <tbody>\n",
       "    <tr>\n",
       "      <th>0</th>\n",
       "      <td>Aaron Alexander</td>\n",
       "      <td>Male</td>\n",
       "      <td>54</td>\n",
       "      <td>1.70</td>\n",
       "      <td>90</td>\n",
       "      <td>151000</td>\n",
       "      <td>British</td>\n",
       "      <td>GB</td>\n",
       "      <td>United Kingdom</td>\n",
       "      <td>Haskell</td>\n",
       "      <td></td>\n",
       "      <td></td>\n",
       "      <td>Aaron</td>\n",
       "      <td>Alexander</td>\n",
       "    </tr>\n",
       "    <tr>\n",
       "      <th>1</th>\n",
       "      <td>Aaron Kirby</td>\n",
       "      <td>Male</td>\n",
       "      <td>59</td>\n",
       "      <td>1.69</td>\n",
       "      <td>43</td>\n",
       "      <td>80000</td>\n",
       "      <td>Spanish</td>\n",
       "      <td>SP</td>\n",
       "      <td>Spain</td>\n",
       "      <td>Falcon</td>\n",
       "      <td>haXe</td>\n",
       "      <td>GNU Octave</td>\n",
       "      <td>Aaron</td>\n",
       "      <td>Kirby</td>\n",
       "    </tr>\n",
       "  </tbody>\n",
       "</table>\n",
       "</div>"
      ],
      "text/plain": [
       "              name gender  age  height  weight  salary nationality code  \\\n",
       "0  Aaron Alexander   Male   54    1.70      90  151000     British   GB   \n",
       "1      Aaron Kirby   Male   59    1.69      43   80000     Spanish   SP   \n",
       "\n",
       "          country language1 language2   language3  first       last  \n",
       "0  United Kingdom   Haskell                        Aaron  Alexander  \n",
       "1           Spain    Falcon      haXe  GNU Octave  Aaron      Kirby  "
      ]
     },
     "execution_count": 12,
     "metadata": {},
     "output_type": "execute_result"
    }
   ],
   "source": [
    "flat.iloc[0:2, :]"
   ]
  },
  {
   "cell_type": "code",
   "execution_count": 13,
   "metadata": {},
   "outputs": [
    {
     "data": {
      "text/plain": [
       "<sqlite3.Cursor at 0x7ff1740b4f80>"
      ]
     },
     "execution_count": 13,
     "metadata": {},
     "output_type": "execute_result"
    }
   ],
   "source": [
    "cur.execute(\"\"\"\n",
    "    INSERT INTO Person(person_first, person_last, age, height, weight) \n",
    "    VALUES \n",
    "    ('Aaron', 'Alexander', 54, 1.70, 90),\n",
    "    ('Aaron', 'Kirby',     59, 1.69, 43);\n",
    "    \"\"\")"
   ]
  },
  {
   "cell_type": "code",
   "execution_count": 14,
   "metadata": {},
   "outputs": [
    {
     "name": "stdout",
     "output_type": "stream",
     "text": [
      "[(1, 'Aaron', 'Alexander', 54, 1.7, 90), (2, 'Aaron', 'Kirby', 59, 1.69, 43)]\n"
     ]
    }
   ],
   "source": [
    "cur.execute(\"\"\"\n",
    "    SELECT * FROM Person \n",
    "    \"\"\")\n",
    "print(cur.fetchall())"
   ]
  },
  {
   "cell_type": "markdown",
   "metadata": {},
   "source": [
    "# Try using the SQL API *read_sql* & *to_sql* in Pandas"
   ]
  },
  {
   "cell_type": "code",
   "execution_count": 23,
   "metadata": {},
   "outputs": [
    {
     "data": {
      "text/html": [
       "<div>\n",
       "<style scoped>\n",
       "    .dataframe tbody tr th:only-of-type {\n",
       "        vertical-align: middle;\n",
       "    }\n",
       "\n",
       "    .dataframe tbody tr th {\n",
       "        vertical-align: top;\n",
       "    }\n",
       "\n",
       "    .dataframe thead th {\n",
       "        text-align: right;\n",
       "    }\n",
       "</style>\n",
       "<table border=\"1\" class=\"dataframe\">\n",
       "  <thead>\n",
       "    <tr style=\"text-align: right;\">\n",
       "      <th></th>\n",
       "      <th>first</th>\n",
       "      <th>last</th>\n",
       "      <th>age</th>\n",
       "      <th>height</th>\n",
       "      <th>weight</th>\n",
       "    </tr>\n",
       "  </thead>\n",
       "  <tbody>\n",
       "    <tr>\n",
       "      <th>0</th>\n",
       "      <td>Aaron</td>\n",
       "      <td>Alexander</td>\n",
       "      <td>54</td>\n",
       "      <td>1.70</td>\n",
       "      <td>90</td>\n",
       "    </tr>\n",
       "    <tr>\n",
       "      <th>1</th>\n",
       "      <td>Aaron</td>\n",
       "      <td>Kirby</td>\n",
       "      <td>59</td>\n",
       "      <td>1.69</td>\n",
       "      <td>43</td>\n",
       "    </tr>\n",
       "    <tr>\n",
       "      <th>2</th>\n",
       "      <td>Abram</td>\n",
       "      <td>Allen</td>\n",
       "      <td>41</td>\n",
       "      <td>1.70</td>\n",
       "      <td>44</td>\n",
       "    </tr>\n",
       "    <tr>\n",
       "      <th>3</th>\n",
       "      <td>Abram</td>\n",
       "      <td>Boyer</td>\n",
       "      <td>45</td>\n",
       "      <td>1.64</td>\n",
       "      <td>68</td>\n",
       "    </tr>\n",
       "    <tr>\n",
       "      <th>4</th>\n",
       "      <td>Adaline</td>\n",
       "      <td>Barry</td>\n",
       "      <td>54</td>\n",
       "      <td>1.87</td>\n",
       "      <td>58</td>\n",
       "    </tr>\n",
       "  </tbody>\n",
       "</table>\n",
       "</div>"
      ],
      "text/plain": [
       "     first       last  age  height  weight\n",
       "0    Aaron  Alexander   54    1.70      90\n",
       "1    Aaron      Kirby   59    1.69      43\n",
       "2    Abram      Allen   41    1.70      44\n",
       "3    Abram      Boyer   45    1.64      68\n",
       "4  Adaline      Barry   54    1.87      58"
      ]
     },
     "metadata": {},
     "output_type": "display_data"
    }
   ],
   "source": [
    "df = (flat\n",
    "      .loc[:, ('first', 'last', 'age', 'height', 'weight')]\n",
    "      .drop_duplicates()\n",
    "      .head()\n",
    ")\n",
    "\n",
    "display(df)"
   ]
  },
  {
   "cell_type": "markdown",
   "metadata": {},
   "source": [
    "write the dataframe into sql"
   ]
  },
  {
   "cell_type": "code",
   "execution_count": 24,
   "metadata": {},
   "outputs": [],
   "source": [
    "df.to_sql('Person', con = con, if_exists='replace')"
   ]
  },
  {
   "cell_type": "markdown",
   "metadata": {},
   "source": [
    "check if the data is input correctly"
   ]
  },
  {
   "cell_type": "code",
   "execution_count": 25,
   "metadata": {},
   "outputs": [
    {
     "data": {
      "text/html": [
       "<div>\n",
       "<style scoped>\n",
       "    .dataframe tbody tr th:only-of-type {\n",
       "        vertical-align: middle;\n",
       "    }\n",
       "\n",
       "    .dataframe tbody tr th {\n",
       "        vertical-align: top;\n",
       "    }\n",
       "\n",
       "    .dataframe thead th {\n",
       "        text-align: right;\n",
       "    }\n",
       "</style>\n",
       "<table border=\"1\" class=\"dataframe\">\n",
       "  <thead>\n",
       "    <tr style=\"text-align: right;\">\n",
       "      <th></th>\n",
       "      <th>index</th>\n",
       "      <th>first</th>\n",
       "      <th>last</th>\n",
       "      <th>age</th>\n",
       "      <th>height</th>\n",
       "      <th>weight</th>\n",
       "    </tr>\n",
       "  </thead>\n",
       "  <tbody>\n",
       "    <tr>\n",
       "      <th>0</th>\n",
       "      <td>0</td>\n",
       "      <td>Aaron</td>\n",
       "      <td>Alexander</td>\n",
       "      <td>54</td>\n",
       "      <td>1.70</td>\n",
       "      <td>90</td>\n",
       "    </tr>\n",
       "    <tr>\n",
       "      <th>1</th>\n",
       "      <td>1</td>\n",
       "      <td>Aaron</td>\n",
       "      <td>Kirby</td>\n",
       "      <td>59</td>\n",
       "      <td>1.69</td>\n",
       "      <td>43</td>\n",
       "    </tr>\n",
       "    <tr>\n",
       "      <th>2</th>\n",
       "      <td>2</td>\n",
       "      <td>Abram</td>\n",
       "      <td>Allen</td>\n",
       "      <td>41</td>\n",
       "      <td>1.70</td>\n",
       "      <td>44</td>\n",
       "    </tr>\n",
       "    <tr>\n",
       "      <th>3</th>\n",
       "      <td>3</td>\n",
       "      <td>Abram</td>\n",
       "      <td>Boyer</td>\n",
       "      <td>45</td>\n",
       "      <td>1.64</td>\n",
       "      <td>68</td>\n",
       "    </tr>\n",
       "    <tr>\n",
       "      <th>4</th>\n",
       "      <td>4</td>\n",
       "      <td>Adaline</td>\n",
       "      <td>Barry</td>\n",
       "      <td>54</td>\n",
       "      <td>1.87</td>\n",
       "      <td>58</td>\n",
       "    </tr>\n",
       "  </tbody>\n",
       "</table>\n",
       "</div>"
      ],
      "text/plain": [
       "   index    first       last  age  height  weight\n",
       "0      0    Aaron  Alexander   54    1.70      90\n",
       "1      1    Aaron      Kirby   59    1.69      43\n",
       "2      2    Abram      Allen   41    1.70      44\n",
       "3      3    Abram      Boyer   45    1.64      68\n",
       "4      4  Adaline      Barry   54    1.87      58"
      ]
     },
     "execution_count": 25,
     "metadata": {},
     "output_type": "execute_result"
    }
   ],
   "source": [
    "pd.read_sql_query(\"\"\"SELECT * FROM Person\"\"\", con = con)"
   ]
  },
  {
   "cell_type": "markdown",
   "metadata": {},
   "source": [
    "# Try to relate two tables using foreign key"
   ]
  },
  {
   "cell_type": "markdown",
   "metadata": {},
   "source": [
    "Note that [the pandas to_sql does not provide primary key setting options](https://www.reddit.com/r/Python/comments/45spup/using_sqlalchemy_and_pandas_to_create_a_database/)\n",
    "```\n",
    "Which would have worked perfectly, except for one problem, automap requires the tables to have a primary key. Ok, no problem, I'm sure Pandas to_sql has a way to indicate the primary key... nope. This is where it gets a little hacky:\n",
    "```"
   ]
  },
  {
   "cell_type": "markdown",
   "metadata": {},
   "source": [
    "dataset with person and its nationality"
   ]
  },
  {
   "cell_type": "code",
   "execution_count": 109,
   "metadata": {},
   "outputs": [
    {
     "data": {
      "text/html": [
       "<div>\n",
       "<style scoped>\n",
       "    .dataframe tbody tr th:only-of-type {\n",
       "        vertical-align: middle;\n",
       "    }\n",
       "\n",
       "    .dataframe tbody tr th {\n",
       "        vertical-align: top;\n",
       "    }\n",
       "\n",
       "    .dataframe thead th {\n",
       "        text-align: right;\n",
       "    }\n",
       "</style>\n",
       "<table border=\"1\" class=\"dataframe\">\n",
       "  <thead>\n",
       "    <tr style=\"text-align: right;\">\n",
       "      <th></th>\n",
       "      <th>first</th>\n",
       "      <th>last</th>\n",
       "      <th>age</th>\n",
       "      <th>height</th>\n",
       "      <th>weight</th>\n",
       "      <th>cid</th>\n",
       "      <th>country</th>\n",
       "      <th>nationality</th>\n",
       "      <th>pid</th>\n",
       "    </tr>\n",
       "  </thead>\n",
       "  <tbody>\n",
       "    <tr>\n",
       "      <th>0</th>\n",
       "      <td>Aaron</td>\n",
       "      <td>Alexander</td>\n",
       "      <td>54</td>\n",
       "      <td>1.70</td>\n",
       "      <td>90</td>\n",
       "      <td>GB</td>\n",
       "      <td>United Kingdom</td>\n",
       "      <td>British</td>\n",
       "      <td>AaronAlexander54</td>\n",
       "    </tr>\n",
       "    <tr>\n",
       "      <th>1</th>\n",
       "      <td>Aaron</td>\n",
       "      <td>Kirby</td>\n",
       "      <td>59</td>\n",
       "      <td>1.69</td>\n",
       "      <td>43</td>\n",
       "      <td>SP</td>\n",
       "      <td>Spain</td>\n",
       "      <td>Spanish</td>\n",
       "      <td>AaronKirby59</td>\n",
       "    </tr>\n",
       "    <tr>\n",
       "      <th>2</th>\n",
       "      <td>Abram</td>\n",
       "      <td>Allen</td>\n",
       "      <td>41</td>\n",
       "      <td>1.70</td>\n",
       "      <td>44</td>\n",
       "      <td>IT</td>\n",
       "      <td>Italy</td>\n",
       "      <td>Italian</td>\n",
       "      <td>AbramAllen41</td>\n",
       "    </tr>\n",
       "    <tr>\n",
       "      <th>3</th>\n",
       "      <td>Abram</td>\n",
       "      <td>Boyer</td>\n",
       "      <td>45</td>\n",
       "      <td>1.64</td>\n",
       "      <td>68</td>\n",
       "      <td>IT</td>\n",
       "      <td>Italy</td>\n",
       "      <td>Italian</td>\n",
       "      <td>AbramBoyer45</td>\n",
       "    </tr>\n",
       "    <tr>\n",
       "      <th>4</th>\n",
       "      <td>Adaline</td>\n",
       "      <td>Barry</td>\n",
       "      <td>54</td>\n",
       "      <td>1.87</td>\n",
       "      <td>58</td>\n",
       "      <td>UY</td>\n",
       "      <td>Uruguay</td>\n",
       "      <td>Uruguayan</td>\n",
       "      <td>AdalineBarry54</td>\n",
       "    </tr>\n",
       "    <tr>\n",
       "      <th>5</th>\n",
       "      <td>Adam</td>\n",
       "      <td>Lawrence</td>\n",
       "      <td>54</td>\n",
       "      <td>1.70</td>\n",
       "      <td>63</td>\n",
       "      <td>CM</td>\n",
       "      <td>Cambodia</td>\n",
       "      <td>Cambodian</td>\n",
       "      <td>AdamLawrence54</td>\n",
       "    </tr>\n",
       "    <tr>\n",
       "      <th>6</th>\n",
       "      <td>Adam</td>\n",
       "      <td>Rush</td>\n",
       "      <td>38</td>\n",
       "      <td>1.87</td>\n",
       "      <td>49</td>\n",
       "      <td>CM</td>\n",
       "      <td>Cameroon</td>\n",
       "      <td>Cameroonian</td>\n",
       "      <td>AdamRush38</td>\n",
       "    </tr>\n",
       "    <tr>\n",
       "      <th>7</th>\n",
       "      <td>Adan</td>\n",
       "      <td>Brown</td>\n",
       "      <td>49</td>\n",
       "      <td>1.81</td>\n",
       "      <td>68</td>\n",
       "      <td>BE</td>\n",
       "      <td>Belgium</td>\n",
       "      <td>Belgian</td>\n",
       "      <td>AdanBrown49</td>\n",
       "    </tr>\n",
       "    <tr>\n",
       "      <th>8</th>\n",
       "      <td>Adelle</td>\n",
       "      <td>Duffy</td>\n",
       "      <td>27</td>\n",
       "      <td>1.63</td>\n",
       "      <td>59</td>\n",
       "      <td>FR</td>\n",
       "      <td>France</td>\n",
       "      <td>French</td>\n",
       "      <td>AdelleDuffy27</td>\n",
       "    </tr>\n",
       "    <tr>\n",
       "      <th>9</th>\n",
       "      <td>Adena</td>\n",
       "      <td>Holland</td>\n",
       "      <td>18</td>\n",
       "      <td>1.59</td>\n",
       "      <td>63</td>\n",
       "      <td>IT</td>\n",
       "      <td>Italy</td>\n",
       "      <td>Italian</td>\n",
       "      <td>AdenaHolland18</td>\n",
       "    </tr>\n",
       "  </tbody>\n",
       "</table>\n",
       "</div>"
      ],
      "text/plain": [
       "     first       last  age  height  weight cid         country  nationality  \\\n",
       "0    Aaron  Alexander   54    1.70      90  GB  United Kingdom      British   \n",
       "1    Aaron      Kirby   59    1.69      43  SP           Spain      Spanish   \n",
       "2    Abram      Allen   41    1.70      44  IT           Italy      Italian   \n",
       "3    Abram      Boyer   45    1.64      68  IT           Italy      Italian   \n",
       "4  Adaline      Barry   54    1.87      58  UY         Uruguay    Uruguayan   \n",
       "5     Adam   Lawrence   54    1.70      63  CM        Cambodia    Cambodian   \n",
       "6     Adam       Rush   38    1.87      49  CM        Cameroon  Cameroonian   \n",
       "7     Adan      Brown   49    1.81      68  BE         Belgium      Belgian   \n",
       "8   Adelle      Duffy   27    1.63      59  FR          France       French   \n",
       "9    Adena    Holland   18    1.59      63  IT           Italy      Italian   \n",
       "\n",
       "                pid  \n",
       "0  AaronAlexander54  \n",
       "1      AaronKirby59  \n",
       "2      AbramAllen41  \n",
       "3      AbramBoyer45  \n",
       "4    AdalineBarry54  \n",
       "5    AdamLawrence54  \n",
       "6        AdamRush38  \n",
       "7       AdanBrown49  \n",
       "8     AdelleDuffy27  \n",
       "9    AdenaHolland18  "
      ]
     },
     "metadata": {},
     "output_type": "display_data"
    }
   ],
   "source": [
    "df = (flat\n",
    "      .loc[:, ('first', 'last', 'age', 'height', 'weight', 'code', 'country', 'nationality')]\n",
    "      .assign(pid = lambda x: x['first'] + x['last'] + x.age.astype(str))\n",
    "      .drop_duplicates()\n",
    "      .head(10)\n",
    "      .rename(index = str, columns = {\"code\": \"cid\"})\n",
    ")\n",
    "\n",
    "display(df)"
   ]
  },
  {
   "cell_type": "markdown",
   "metadata": {},
   "source": [
    "create three df for database"
   ]
  },
  {
   "cell_type": "code",
   "execution_count": 69,
   "metadata": {},
   "outputs": [
    {
     "data": {
      "text/html": [
       "<div>\n",
       "<style scoped>\n",
       "    .dataframe tbody tr th:only-of-type {\n",
       "        vertical-align: middle;\n",
       "    }\n",
       "\n",
       "    .dataframe tbody tr th {\n",
       "        vertical-align: top;\n",
       "    }\n",
       "\n",
       "    .dataframe thead th {\n",
       "        text-align: right;\n",
       "    }\n",
       "</style>\n",
       "<table border=\"1\" class=\"dataframe\">\n",
       "  <thead>\n",
       "    <tr style=\"text-align: right;\">\n",
       "      <th></th>\n",
       "      <th>pid</th>\n",
       "      <th>first</th>\n",
       "      <th>last</th>\n",
       "      <th>age</th>\n",
       "      <th>height</th>\n",
       "      <th>weight</th>\n",
       "      <th>cid</th>\n",
       "    </tr>\n",
       "  </thead>\n",
       "  <tbody>\n",
       "    <tr>\n",
       "      <th>0</th>\n",
       "      <td>AaronAlexander54</td>\n",
       "      <td>Aaron</td>\n",
       "      <td>Alexander</td>\n",
       "      <td>54</td>\n",
       "      <td>1.70</td>\n",
       "      <td>90</td>\n",
       "      <td>GB</td>\n",
       "    </tr>\n",
       "    <tr>\n",
       "      <th>1</th>\n",
       "      <td>AaronKirby59</td>\n",
       "      <td>Aaron</td>\n",
       "      <td>Kirby</td>\n",
       "      <td>59</td>\n",
       "      <td>1.69</td>\n",
       "      <td>43</td>\n",
       "      <td>SP</td>\n",
       "    </tr>\n",
       "    <tr>\n",
       "      <th>2</th>\n",
       "      <td>AbramAllen41</td>\n",
       "      <td>Abram</td>\n",
       "      <td>Allen</td>\n",
       "      <td>41</td>\n",
       "      <td>1.70</td>\n",
       "      <td>44</td>\n",
       "      <td>IT</td>\n",
       "    </tr>\n",
       "    <tr>\n",
       "      <th>3</th>\n",
       "      <td>AbramBoyer45</td>\n",
       "      <td>Abram</td>\n",
       "      <td>Boyer</td>\n",
       "      <td>45</td>\n",
       "      <td>1.64</td>\n",
       "      <td>68</td>\n",
       "      <td>IT</td>\n",
       "    </tr>\n",
       "    <tr>\n",
       "      <th>4</th>\n",
       "      <td>AdalineBarry54</td>\n",
       "      <td>Adaline</td>\n",
       "      <td>Barry</td>\n",
       "      <td>54</td>\n",
       "      <td>1.87</td>\n",
       "      <td>58</td>\n",
       "      <td>UY</td>\n",
       "    </tr>\n",
       "    <tr>\n",
       "      <th>5</th>\n",
       "      <td>AdamLawrence54</td>\n",
       "      <td>Adam</td>\n",
       "      <td>Lawrence</td>\n",
       "      <td>54</td>\n",
       "      <td>1.70</td>\n",
       "      <td>63</td>\n",
       "      <td>CM</td>\n",
       "    </tr>\n",
       "    <tr>\n",
       "      <th>6</th>\n",
       "      <td>AdamRush38</td>\n",
       "      <td>Adam</td>\n",
       "      <td>Rush</td>\n",
       "      <td>38</td>\n",
       "      <td>1.87</td>\n",
       "      <td>49</td>\n",
       "      <td>CM</td>\n",
       "    </tr>\n",
       "    <tr>\n",
       "      <th>7</th>\n",
       "      <td>AdanBrown49</td>\n",
       "      <td>Adan</td>\n",
       "      <td>Brown</td>\n",
       "      <td>49</td>\n",
       "      <td>1.81</td>\n",
       "      <td>68</td>\n",
       "      <td>BE</td>\n",
       "    </tr>\n",
       "    <tr>\n",
       "      <th>8</th>\n",
       "      <td>AdelleDuffy27</td>\n",
       "      <td>Adelle</td>\n",
       "      <td>Duffy</td>\n",
       "      <td>27</td>\n",
       "      <td>1.63</td>\n",
       "      <td>59</td>\n",
       "      <td>FR</td>\n",
       "    </tr>\n",
       "    <tr>\n",
       "      <th>9</th>\n",
       "      <td>AdenaHolland18</td>\n",
       "      <td>Adena</td>\n",
       "      <td>Holland</td>\n",
       "      <td>18</td>\n",
       "      <td>1.59</td>\n",
       "      <td>63</td>\n",
       "      <td>IT</td>\n",
       "    </tr>\n",
       "  </tbody>\n",
       "</table>\n",
       "</div>"
      ],
      "text/plain": [
       "                pid    first       last  age  height  weight cid\n",
       "0  AaronAlexander54    Aaron  Alexander   54    1.70      90  GB\n",
       "1      AaronKirby59    Aaron      Kirby   59    1.69      43  SP\n",
       "2      AbramAllen41    Abram      Allen   41    1.70      44  IT\n",
       "3      AbramBoyer45    Abram      Boyer   45    1.64      68  IT\n",
       "4    AdalineBarry54  Adaline      Barry   54    1.87      58  UY\n",
       "5    AdamLawrence54     Adam   Lawrence   54    1.70      63  CM\n",
       "6        AdamRush38     Adam       Rush   38    1.87      49  CM\n",
       "7       AdanBrown49     Adan      Brown   49    1.81      68  BE\n",
       "8     AdelleDuffy27   Adelle      Duffy   27    1.63      59  FR\n",
       "9    AdenaHolland18    Adena    Holland   18    1.59      63  IT"
      ]
     },
     "metadata": {},
     "output_type": "display_data"
    },
    {
     "data": {
      "text/html": [
       "<div>\n",
       "<style scoped>\n",
       "    .dataframe tbody tr th:only-of-type {\n",
       "        vertical-align: middle;\n",
       "    }\n",
       "\n",
       "    .dataframe tbody tr th {\n",
       "        vertical-align: top;\n",
       "    }\n",
       "\n",
       "    .dataframe thead th {\n",
       "        text-align: right;\n",
       "    }\n",
       "</style>\n",
       "<table border=\"1\" class=\"dataframe\">\n",
       "  <thead>\n",
       "    <tr style=\"text-align: right;\">\n",
       "      <th></th>\n",
       "      <th>cid</th>\n",
       "      <th>country</th>\n",
       "      <th>nationality</th>\n",
       "    </tr>\n",
       "  </thead>\n",
       "  <tbody>\n",
       "    <tr>\n",
       "      <th>0</th>\n",
       "      <td>GB</td>\n",
       "      <td>United Kingdom</td>\n",
       "      <td>British</td>\n",
       "    </tr>\n",
       "    <tr>\n",
       "      <th>1</th>\n",
       "      <td>SP</td>\n",
       "      <td>Spain</td>\n",
       "      <td>Spanish</td>\n",
       "    </tr>\n",
       "    <tr>\n",
       "      <th>2</th>\n",
       "      <td>IT</td>\n",
       "      <td>Italy</td>\n",
       "      <td>Italian</td>\n",
       "    </tr>\n",
       "    <tr>\n",
       "      <th>4</th>\n",
       "      <td>UY</td>\n",
       "      <td>Uruguay</td>\n",
       "      <td>Uruguayan</td>\n",
       "    </tr>\n",
       "    <tr>\n",
       "      <th>5</th>\n",
       "      <td>CM</td>\n",
       "      <td>Cambodia</td>\n",
       "      <td>Cambodian</td>\n",
       "    </tr>\n",
       "    <tr>\n",
       "      <th>6</th>\n",
       "      <td>CM</td>\n",
       "      <td>Cameroon</td>\n",
       "      <td>Cameroonian</td>\n",
       "    </tr>\n",
       "    <tr>\n",
       "      <th>7</th>\n",
       "      <td>BE</td>\n",
       "      <td>Belgium</td>\n",
       "      <td>Belgian</td>\n",
       "    </tr>\n",
       "    <tr>\n",
       "      <th>8</th>\n",
       "      <td>FR</td>\n",
       "      <td>France</td>\n",
       "      <td>French</td>\n",
       "    </tr>\n",
       "  </tbody>\n",
       "</table>\n",
       "</div>"
      ],
      "text/plain": [
       "  cid         country  nationality\n",
       "0  GB  United Kingdom      British\n",
       "1  SP           Spain      Spanish\n",
       "2  IT           Italy      Italian\n",
       "4  UY         Uruguay    Uruguayan\n",
       "5  CM        Cambodia    Cambodian\n",
       "6  CM        Cameroon  Cameroonian\n",
       "7  BE         Belgium      Belgian\n",
       "8  FR          France       French"
      ]
     },
     "metadata": {},
     "output_type": "display_data"
    }
   ],
   "source": [
    "df_person  = (df\n",
    "              .loc[:, ('pid', 'first', 'last', 'age', 'height', 'weight', 'cid')]\n",
    "              .drop_duplicates())\n",
    "\n",
    "df_country = (df\n",
    "              .loc[:, ('cid', 'country', 'nationality')]\n",
    "              .drop_duplicates())\n",
    "\n",
    "display(df_person)\n",
    "display(df_country)"
   ]
  },
  {
   "cell_type": "markdown",
   "metadata": {},
   "source": [
    "set person and country tables"
   ]
  },
  {
   "cell_type": "markdown",
   "metadata": {},
   "source": [
    "```\n",
    "DROP TABLE IF EXISTS Country;\n",
    "DROP TABLE IF EXISTS Person;\n",
    "\n",
    "CREATE TABLE Country (\n",
    "    country_id varcarh(2) PRIMARY KEY,\n",
    "    country_name varchar(255)\n",
    ");\n",
    "\n",
    "CREATE TABLE Person (\n",
    "    person_id INTEGER PRIMARY KEY,\n",
    "    person_first varchar(255),\n",
    "    person_last varchar(255),\n",
    "    country_id INTEGER NOT NULL,\n",
    "      FOREIGN KEY (country_id) REFERENCES Country(country_id)\n",
    ");\n",
    "```"
   ]
  },
  {
   "cell_type": "code",
   "execution_count": 91,
   "metadata": {},
   "outputs": [
    {
     "name": "stdout",
     "output_type": "stream",
     "text": [
      "INSERT INTO Person ('x', 'y')\n",
      "VALUES\n",
      "(1, 2, 'a'),\n",
      "(10, 20, 'b');\n"
     ]
    }
   ],
   "source": [
    "def query_insert(table, cols, values):\n",
    "    \"\"\"Helper function to create insert query from table name (table), column names (cols), and observations (values)\n",
    "    \n",
    "    >>> query = query_insert(\"Person\", (\"x\", \"y\"), [(1, 2, 'a'), (10, 20, 'b')])\n",
    "    >>> print(query)\n",
    "    INSERT INTO Person ('x', 'y')\n",
    "    VALUES\n",
    "    (1, 2, 'a'),\n",
    "    (10, 20, 'b');\n",
    "    \"\"\"\n",
    "    # initialize an insert query\n",
    "    query = \"INSERT INTO {table_name} {list_of_variables}\\nVALUES\".format(table_name = table, list_of_variables = cols)\n",
    "    \n",
    "    # add rows into query\n",
    "    tmp = map(str, values)\n",
    "    tmp = \",\\n\".join(tmp) + \";\"\n",
    "    \n",
    "    return query + \"\\n\" + tmp\n",
    "\n",
    "### test the query_insert function\n",
    "print(query_insert(\"Person\", (\"x\", \"y\"), [(1, 2, 'a'), (10, 20, 'b')]))"
   ]
  },
  {
   "cell_type": "code",
   "execution_count": 97,
   "metadata": {},
   "outputs": [
    {
     "data": {
      "text/html": [
       "<div>\n",
       "<style scoped>\n",
       "    .dataframe tbody tr th:only-of-type {\n",
       "        vertical-align: middle;\n",
       "    }\n",
       "\n",
       "    .dataframe tbody tr th {\n",
       "        vertical-align: top;\n",
       "    }\n",
       "\n",
       "    .dataframe thead th {\n",
       "        text-align: right;\n",
       "    }\n",
       "</style>\n",
       "<table border=\"1\" class=\"dataframe\">\n",
       "  <thead>\n",
       "    <tr style=\"text-align: right;\">\n",
       "      <th></th>\n",
       "      <th>name</th>\n",
       "      <th>gender</th>\n",
       "      <th>age</th>\n",
       "      <th>height</th>\n",
       "      <th>weight</th>\n",
       "      <th>salary</th>\n",
       "      <th>nationality</th>\n",
       "      <th>code</th>\n",
       "      <th>country</th>\n",
       "      <th>language1</th>\n",
       "      <th>language2</th>\n",
       "      <th>language3</th>\n",
       "      <th>first</th>\n",
       "      <th>last</th>\n",
       "    </tr>\n",
       "  </thead>\n",
       "  <tbody>\n",
       "    <tr>\n",
       "      <th>0</th>\n",
       "      <td>Aaron Alexander</td>\n",
       "      <td>Male</td>\n",
       "      <td>54</td>\n",
       "      <td>1.70</td>\n",
       "      <td>90</td>\n",
       "      <td>151000</td>\n",
       "      <td>British</td>\n",
       "      <td>GB</td>\n",
       "      <td>United Kingdom</td>\n",
       "      <td>Haskell</td>\n",
       "      <td></td>\n",
       "      <td></td>\n",
       "      <td>Aaron</td>\n",
       "      <td>Alexander</td>\n",
       "    </tr>\n",
       "    <tr>\n",
       "      <th>1</th>\n",
       "      <td>Aaron Kirby</td>\n",
       "      <td>Male</td>\n",
       "      <td>59</td>\n",
       "      <td>1.69</td>\n",
       "      <td>43</td>\n",
       "      <td>80000</td>\n",
       "      <td>Spanish</td>\n",
       "      <td>SP</td>\n",
       "      <td>Spain</td>\n",
       "      <td>Falcon</td>\n",
       "      <td>haXe</td>\n",
       "      <td>GNU Octave</td>\n",
       "      <td>Aaron</td>\n",
       "      <td>Kirby</td>\n",
       "    </tr>\n",
       "  </tbody>\n",
       "</table>\n",
       "</div>"
      ],
      "text/plain": [
       "              name gender  age  height  weight  salary nationality code  \\\n",
       "0  Aaron Alexander   Male   54    1.70      90  151000     British   GB   \n",
       "1      Aaron Kirby   Male   59    1.69      43   80000     Spanish   SP   \n",
       "\n",
       "          country language1 language2   language3  first       last  \n",
       "0  United Kingdom   Haskell                        Aaron  Alexander  \n",
       "1           Spain    Falcon      haXe  GNU Octave  Aaron      Kirby  "
      ]
     },
     "execution_count": 97,
     "metadata": {},
     "output_type": "execute_result"
    }
   ],
   "source": [
    "flat.loc[0:1, :]"
   ]
  },
  {
   "cell_type": "code",
   "execution_count": 118,
   "metadata": {},
   "outputs": [
    {
     "name": "stdout",
     "output_type": "stream",
     "text": [
      "[('Country',), ('Person',)]\n"
     ]
    }
   ],
   "source": [
    "cur.execute(\"DROP TABLE IF EXISTS Country;\")\n",
    "cur.execute(\"DROP TABLE IF EXISTS Person;\")\n",
    "\n",
    "query = \"\"\"\n",
    "    CREATE TABLE Country (\n",
    "        country_id          varchar(2) PRIMARY KEY,\n",
    "        country_name        varchar(255),\n",
    "        country_nationality varchar(255)\n",
    ");\"\"\"\n",
    "\n",
    "cur.execute(query)\n",
    "\n",
    "query = \"\"\"\n",
    "    CREATE TABLE Person(\n",
    "        person_id    varchar(255) PRIMARY KEY,\n",
    "        person_first varchar(255),\n",
    "        person_last  varchar(255),\n",
    "        \n",
    "        age          INTEGER,    \n",
    "        height       FLOAT(3),\n",
    "        weight       INTEGER,\n",
    "        \n",
    "        country_id INTEGER NOT NULL,\n",
    "            FOREIGN KEY (country_id) REFERENCES Country(country_id)\n",
    ");\"\"\"\n",
    "\n",
    "cur.execute(query)\n",
    "\n",
    "cur.execute(\"SELECT name FROM sqlite_master WHERE type='table';\")\n",
    "print(cur.fetchall())"
   ]
  },
  {
   "cell_type": "code",
   "execution_count": 112,
   "metadata": {},
   "outputs": [
    {
     "data": {
      "text/html": [
       "<div>\n",
       "<style scoped>\n",
       "    .dataframe tbody tr th:only-of-type {\n",
       "        vertical-align: middle;\n",
       "    }\n",
       "\n",
       "    .dataframe tbody tr th {\n",
       "        vertical-align: top;\n",
       "    }\n",
       "\n",
       "    .dataframe thead th {\n",
       "        text-align: right;\n",
       "    }\n",
       "</style>\n",
       "<table border=\"1\" class=\"dataframe\">\n",
       "  <thead>\n",
       "    <tr style=\"text-align: right;\">\n",
       "      <th></th>\n",
       "      <th>first</th>\n",
       "      <th>last</th>\n",
       "      <th>age</th>\n",
       "      <th>height</th>\n",
       "      <th>weight</th>\n",
       "      <th>cid</th>\n",
       "      <th>country</th>\n",
       "      <th>nationality</th>\n",
       "      <th>pid</th>\n",
       "    </tr>\n",
       "  </thead>\n",
       "  <tbody>\n",
       "    <tr>\n",
       "      <th>0</th>\n",
       "      <td>Aaron</td>\n",
       "      <td>Alexander</td>\n",
       "      <td>54</td>\n",
       "      <td>1.70</td>\n",
       "      <td>90</td>\n",
       "      <td>GB</td>\n",
       "      <td>United Kingdom</td>\n",
       "      <td>British</td>\n",
       "      <td>AaronAlexander54</td>\n",
       "    </tr>\n",
       "    <tr>\n",
       "      <th>1</th>\n",
       "      <td>Aaron</td>\n",
       "      <td>Kirby</td>\n",
       "      <td>59</td>\n",
       "      <td>1.69</td>\n",
       "      <td>43</td>\n",
       "      <td>SP</td>\n",
       "      <td>Spain</td>\n",
       "      <td>Spanish</td>\n",
       "      <td>AaronKirby59</td>\n",
       "    </tr>\n",
       "  </tbody>\n",
       "</table>\n",
       "</div>"
      ],
      "text/plain": [
       "   first       last  age  height  weight cid         country nationality  \\\n",
       "0  Aaron  Alexander   54    1.70      90  GB  United Kingdom     British   \n",
       "1  Aaron      Kirby   59    1.69      43  SP           Spain     Spanish   \n",
       "\n",
       "                pid  \n",
       "0  AaronAlexander54  \n",
       "1      AaronKirby59  "
      ]
     },
     "execution_count": 112,
     "metadata": {},
     "output_type": "execute_result"
    }
   ],
   "source": [
    "df.iloc[0:2, :]"
   ]
  },
  {
   "cell_type": "code",
   "execution_count": 119,
   "metadata": {},
   "outputs": [
    {
     "name": "stdout",
     "output_type": "stream",
     "text": [
      "INSERT INTO Country ('country_id', 'country_name', 'country_nationality')\n",
      "VALUES\n",
      "('GB', 'United Kingdom', 'British'),\n",
      "('SP', 'Spanish', 'Spain');\n"
     ]
    }
   ],
   "source": [
    "query = query_insert(\n",
    "    \"Country\", \n",
    "    (\"country_id\", \"country_name\", \"country_nationality\"), \n",
    "    [(\"GB\", \"United Kingdom\", \"British\"), \n",
    "     (\"SP\", \"Spanish\",        \"Spain\")])\n",
    "\n",
    "cur.execute(query)\n",
    "print(query)"
   ]
  },
  {
   "cell_type": "code",
   "execution_count": 120,
   "metadata": {},
   "outputs": [
    {
     "name": "stdout",
     "output_type": "stream",
     "text": [
      "INSERT INTO Person ('person_id', 'person_first', 'person_last', 'age', 'height', 'weight', 'country_id')\n",
      "VALUES\n",
      "('AaronAlexander54', 'Aaron', 'Alexander', 54, 1.7, 90, 'GB'),\n",
      "('AaronKirby59', 'Aaron', 'Kirby', 59, 1.69, 43, 'SP');\n"
     ]
    }
   ],
   "source": [
    "query = query_insert(\n",
    "    \"Person\", \n",
    "    (\"person_id\",         \"person_first\", \"person_last\", \"age\", \"height\", \"weight\", \"country_id\"),\n",
    "    [(\"AaronAlexander54\", \"Aaron\",        \"Alexander\",   54,    1.70,     90,       \"GB\"),\n",
    "     (\"AaronKirby59\",     \"Aaron\",        \"Kirby\",       59,    1.69,     43,       \"SP\")])\n",
    "\n",
    "cur.execute(query)\n",
    "print(query)"
   ]
  },
  {
   "cell_type": "markdown",
   "metadata": {},
   "source": [
    "query"
   ]
  },
  {
   "cell_type": "code",
   "execution_count": 122,
   "metadata": {},
   "outputs": [
    {
     "data": {
      "text/plain": [
       "[('AaronAlexander54', 'Aaron', 'Alexander', 54, 1.7, 90, 'GB'),\n",
       " ('AaronKirby59', 'Aaron', 'Kirby', 59, 1.69, 43, 'SP')]"
      ]
     },
     "execution_count": 122,
     "metadata": {},
     "output_type": "execute_result"
    }
   ],
   "source": [
    "cur.execute(\"\"\"\n",
    "    SELECT * FROM Person\n",
    "    \"\"\")\n",
    "cur.fetchall()"
   ]
  },
  {
   "cell_type": "code",
   "execution_count": 123,
   "metadata": {
    "scrolled": true
   },
   "outputs": [
    {
     "data": {
      "text/html": [
       "<div>\n",
       "<style scoped>\n",
       "    .dataframe tbody tr th:only-of-type {\n",
       "        vertical-align: middle;\n",
       "    }\n",
       "\n",
       "    .dataframe tbody tr th {\n",
       "        vertical-align: top;\n",
       "    }\n",
       "\n",
       "    .dataframe thead th {\n",
       "        text-align: right;\n",
       "    }\n",
       "</style>\n",
       "<table border=\"1\" class=\"dataframe\">\n",
       "  <thead>\n",
       "    <tr style=\"text-align: right;\">\n",
       "      <th></th>\n",
       "      <th>person_id</th>\n",
       "      <th>person_first</th>\n",
       "      <th>person_last</th>\n",
       "      <th>age</th>\n",
       "      <th>height</th>\n",
       "      <th>weight</th>\n",
       "      <th>country_id</th>\n",
       "    </tr>\n",
       "  </thead>\n",
       "  <tbody>\n",
       "    <tr>\n",
       "      <th>0</th>\n",
       "      <td>AaronAlexander54</td>\n",
       "      <td>Aaron</td>\n",
       "      <td>Alexander</td>\n",
       "      <td>54</td>\n",
       "      <td>1.70</td>\n",
       "      <td>90</td>\n",
       "      <td>GB</td>\n",
       "    </tr>\n",
       "    <tr>\n",
       "      <th>1</th>\n",
       "      <td>AaronKirby59</td>\n",
       "      <td>Aaron</td>\n",
       "      <td>Kirby</td>\n",
       "      <td>59</td>\n",
       "      <td>1.69</td>\n",
       "      <td>43</td>\n",
       "      <td>SP</td>\n",
       "    </tr>\n",
       "  </tbody>\n",
       "</table>\n",
       "</div>"
      ],
      "text/plain": [
       "          person_id person_first person_last  age  height  weight country_id\n",
       "0  AaronAlexander54        Aaron   Alexander   54    1.70      90         GB\n",
       "1      AaronKirby59        Aaron       Kirby   59    1.69      43         SP"
      ]
     },
     "execution_count": 123,
     "metadata": {},
     "output_type": "execute_result"
    }
   ],
   "source": [
    "pd.read_sql_query(\"\"\"SELECT * FROM Person\"\"\", con = con)"
   ]
  },
  {
   "cell_type": "markdown",
   "metadata": {},
   "source": [
    "query both together"
   ]
  },
  {
   "cell_type": "code",
   "execution_count": null,
   "metadata": {},
   "outputs": [],
   "source": []
  },
  {
   "cell_type": "markdown",
   "metadata": {},
   "source": [
    "# Linker"
   ]
  },
  {
   "cell_type": "code",
   "execution_count": null,
   "metadata": {},
   "outputs": [],
   "source": []
  },
  {
   "cell_type": "code",
   "execution_count": null,
   "metadata": {},
   "outputs": [],
   "source": []
  },
  {
   "cell_type": "code",
   "execution_count": null,
   "metadata": {},
   "outputs": [],
   "source": []
  }
 ],
 "metadata": {
  "kernelspec": {
   "display_name": "Python 3",
   "language": "python",
   "name": "python3"
  },
  "language_info": {
   "codemirror_mode": {
    "name": "ipython",
    "version": 3
   },
   "file_extension": ".py",
   "mimetype": "text/x-python",
   "name": "python",
   "nbconvert_exporter": "python",
   "pygments_lexer": "ipython3",
   "version": "3.6.6"
  }
 },
 "nbformat": 4,
 "nbformat_minor": 2
}
